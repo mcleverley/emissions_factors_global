{
 "cells": [
  {
   "cell_type": "markdown",
   "metadata": {},
   "source": [
    "# plan"
   ]
  },
  {
   "cell_type": "code",
   "execution_count": 11,
   "metadata": {},
   "outputs": [],
   "source": [
    "'''\n",
    "1. get tables neat using join in pandas. concat stuff\n",
    "2. consider important variables\n",
    "    consider them some more\n",
    "3. load up the regression model\n",
    "    descend gradients\n",
    "4. reconsider variables\n",
    "    refine models\n",
    "    descend refined gradients\n",
    "5. make graph\n",
    "6. present\n",
    "\n",
    "\n",
    "'''\n",
    "import pandas as pd\n",
    "import numpy as np"
   ]
  },
  {
   "cell_type": "code",
   "execution_count": null,
   "metadata": {},
   "outputs": [],
   "source": []
  },
  {
   "cell_type": "markdown",
   "metadata": {},
   "source": [
    "# 4 CSVs. let's join them"
   ]
  },
  {
   "cell_type": "code",
   "execution_count": 12,
   "metadata": {},
   "outputs": [],
   "source": [
    "main = pd.read_csv('countries_emissions_mmtons.csv')\n",
    "gdp = pd.read_csv('countries_gdp_billions.csv')\n",
    "pop = pd.read_csv('countries_populations_thousands.csv')\n",
    "corr = pd.read_csv('cpi_main.csv')\n"
   ]
  },
  {
   "cell_type": "code",
   "execution_count": 30,
   "metadata": {},
   "outputs": [
    {
     "data": {
      "text/html": [
       "<div>\n",
       "<style scoped>\n",
       "    .dataframe tbody tr th:only-of-type {\n",
       "        vertical-align: middle;\n",
       "    }\n",
       "\n",
       "    .dataframe tbody tr th {\n",
       "        vertical-align: top;\n",
       "    }\n",
       "\n",
       "    .dataframe thead th {\n",
       "        text-align: right;\n",
       "    }\n",
       "</style>\n",
       "<table border=\"1\" class=\"dataframe\">\n",
       "  <thead>\n",
       "    <tr style=\"text-align: right;\">\n",
       "      <th></th>\n",
       "      <th>country</th>\n",
       "      <th>2015</th>\n",
       "      <th>2016</th>\n",
       "    </tr>\n",
       "  </thead>\n",
       "  <tbody>\n",
       "    <tr>\n",
       "      <th>0</th>\n",
       "      <td>Afghanistan</td>\n",
       "      <td>7.732860644</td>\n",
       "      <td>8.541487914</td>\n",
       "    </tr>\n",
       "    <tr>\n",
       "      <th>1</th>\n",
       "      <td>Albania</td>\n",
       "      <td>4.100475029</td>\n",
       "      <td>4.221155175</td>\n",
       "    </tr>\n",
       "    <tr>\n",
       "      <th>2</th>\n",
       "      <td>Algeria</td>\n",
       "      <td>144.828490377</td>\n",
       "      <td>138.723247027</td>\n",
       "    </tr>\n",
       "    <tr>\n",
       "      <th>3</th>\n",
       "      <td>American Samoa</td>\n",
       "      <td>0.355245915</td>\n",
       "      <td>0.360661844</td>\n",
       "    </tr>\n",
       "    <tr>\n",
       "      <th>4</th>\n",
       "      <td>Angola</td>\n",
       "      <td>36.182259864</td>\n",
       "      <td>21.417035574</td>\n",
       "    </tr>\n",
       "  </tbody>\n",
       "</table>\n",
       "</div>"
      ],
      "text/plain": [
       "          country           2015           2016\n",
       "0     Afghanistan    7.732860644    8.541487914\n",
       "1         Albania    4.100475029    4.221155175\n",
       "2         Algeria  144.828490377  138.723247027\n",
       "3  American Samoa    0.355245915    0.360661844\n",
       "4          Angola   36.182259864   21.417035574"
      ]
     },
     "execution_count": 30,
     "metadata": {},
     "output_type": "execute_result"
    }
   ],
   "source": [
    "main.head()"
   ]
  },
  {
   "cell_type": "code",
   "execution_count": 31,
   "metadata": {},
   "outputs": [
    {
     "data": {
      "text/html": [
       "<div>\n",
       "<style scoped>\n",
       "    .dataframe tbody tr th:only-of-type {\n",
       "        vertical-align: middle;\n",
       "    }\n",
       "\n",
       "    .dataframe tbody tr th {\n",
       "        vertical-align: top;\n",
       "    }\n",
       "\n",
       "    .dataframe thead th {\n",
       "        text-align: right;\n",
       "    }\n",
       "</style>\n",
       "<table border=\"1\" class=\"dataframe\">\n",
       "  <thead>\n",
       "    <tr style=\"text-align: right;\">\n",
       "      <th></th>\n",
       "      <th>country</th>\n",
       "      <th>2015</th>\n",
       "      <th>2016</th>\n",
       "    </tr>\n",
       "  </thead>\n",
       "  <tbody>\n",
       "    <tr>\n",
       "      <th>0</th>\n",
       "      <td>Afghanistan</td>\n",
       "      <td>57.5893</td>\n",
       "      <td>59.6389</td>\n",
       "    </tr>\n",
       "    <tr>\n",
       "      <th>1</th>\n",
       "      <td>Albania</td>\n",
       "      <td>29.8787</td>\n",
       "      <td>30.8758</td>\n",
       "    </tr>\n",
       "    <tr>\n",
       "      <th>2</th>\n",
       "      <td>Algeria</td>\n",
       "      <td>536.458</td>\n",
       "      <td>553.624</td>\n",
       "    </tr>\n",
       "    <tr>\n",
       "      <th>3</th>\n",
       "      <td>American Samoa</td>\n",
       "      <td>NaN</td>\n",
       "      <td>NaN</td>\n",
       "    </tr>\n",
       "    <tr>\n",
       "      <th>4</th>\n",
       "      <td>Angola</td>\n",
       "      <td>181.496</td>\n",
       "      <td>176.813</td>\n",
       "    </tr>\n",
       "  </tbody>\n",
       "</table>\n",
       "</div>"
      ],
      "text/plain": [
       "          country     2015     2016\n",
       "0     Afghanistan  57.5893  59.6389\n",
       "1         Albania  29.8787  30.8758\n",
       "2         Algeria  536.458  553.624\n",
       "3  American Samoa      NaN      NaN\n",
       "4          Angola  181.496  176.813"
      ]
     },
     "execution_count": 31,
     "metadata": {},
     "output_type": "execute_result"
    }
   ],
   "source": [
    "gdp.head()"
   ]
  },
  {
   "cell_type": "code",
   "execution_count": null,
   "metadata": {},
   "outputs": [],
   "source": []
  },
  {
   "cell_type": "code",
   "execution_count": 32,
   "metadata": {
    "scrolled": true
   },
   "outputs": [
    {
     "data": {
      "text/html": [
       "<div>\n",
       "<style scoped>\n",
       "    .dataframe tbody tr th:only-of-type {\n",
       "        vertical-align: middle;\n",
       "    }\n",
       "\n",
       "    .dataframe tbody tr th {\n",
       "        vertical-align: top;\n",
       "    }\n",
       "\n",
       "    .dataframe thead th {\n",
       "        text-align: right;\n",
       "    }\n",
       "</style>\n",
       "<table border=\"1\" class=\"dataframe\">\n",
       "  <thead>\n",
       "    <tr style=\"text-align: right;\">\n",
       "      <th></th>\n",
       "      <th>country</th>\n",
       "      <th>2015</th>\n",
       "      <th>2016</th>\n",
       "    </tr>\n",
       "  </thead>\n",
       "  <tbody>\n",
       "    <tr>\n",
       "      <th>0</th>\n",
       "      <td>Afghanistan</td>\n",
       "      <td>33736.5</td>\n",
       "      <td>34600.2</td>\n",
       "    </tr>\n",
       "    <tr>\n",
       "      <th>1</th>\n",
       "      <td>Albania</td>\n",
       "      <td>2923.35</td>\n",
       "      <td>2927.09</td>\n",
       "    </tr>\n",
       "    <tr>\n",
       "      <th>2</th>\n",
       "      <td>Algeria</td>\n",
       "      <td>39871.5</td>\n",
       "      <td>40563.9</td>\n",
       "    </tr>\n",
       "    <tr>\n",
       "      <th>3</th>\n",
       "      <td>American Samoa</td>\n",
       "      <td>NaN</td>\n",
       "      <td>NaN</td>\n",
       "    </tr>\n",
       "    <tr>\n",
       "      <th>4</th>\n",
       "      <td>Angola</td>\n",
       "      <td>27859.3</td>\n",
       "      <td>28852.9</td>\n",
       "    </tr>\n",
       "  </tbody>\n",
       "</table>\n",
       "</div>"
      ],
      "text/plain": [
       "          country     2015     2016\n",
       "0     Afghanistan  33736.5  34600.2\n",
       "1         Albania  2923.35  2927.09\n",
       "2         Algeria  39871.5  40563.9\n",
       "3  American Samoa      NaN      NaN\n",
       "4          Angola  27859.3  28852.9"
      ]
     },
     "execution_count": 32,
     "metadata": {},
     "output_type": "execute_result"
    }
   ],
   "source": [
    "pop.head()"
   ]
  },
  {
   "cell_type": "code",
   "execution_count": null,
   "metadata": {},
   "outputs": [],
   "source": []
  },
  {
   "cell_type": "code",
   "execution_count": 33,
   "metadata": {},
   "outputs": [
    {
     "data": {
      "text/html": [
       "<div>\n",
       "<style scoped>\n",
       "    .dataframe tbody tr th:only-of-type {\n",
       "        vertical-align: middle;\n",
       "    }\n",
       "\n",
       "    .dataframe tbody tr th {\n",
       "        vertical-align: top;\n",
       "    }\n",
       "\n",
       "    .dataframe thead th {\n",
       "        text-align: right;\n",
       "    }\n",
       "</style>\n",
       "<table border=\"1\" class=\"dataframe\">\n",
       "  <thead>\n",
       "    <tr style=\"text-align: right;\">\n",
       "      <th></th>\n",
       "      <th>country</th>\n",
       "      <th>2015</th>\n",
       "      <th>2016</th>\n",
       "    </tr>\n",
       "  </thead>\n",
       "  <tbody>\n",
       "    <tr>\n",
       "      <th>0</th>\n",
       "      <td>Afghanistan</td>\n",
       "      <td>33736.5</td>\n",
       "      <td>34600.2</td>\n",
       "    </tr>\n",
       "    <tr>\n",
       "      <th>1</th>\n",
       "      <td>Albania</td>\n",
       "      <td>2923.35</td>\n",
       "      <td>2927.09</td>\n",
       "    </tr>\n",
       "    <tr>\n",
       "      <th>2</th>\n",
       "      <td>Algeria</td>\n",
       "      <td>39871.5</td>\n",
       "      <td>40563.9</td>\n",
       "    </tr>\n",
       "    <tr>\n",
       "      <th>3</th>\n",
       "      <td>American Samoa</td>\n",
       "      <td>NaN</td>\n",
       "      <td>NaN</td>\n",
       "    </tr>\n",
       "    <tr>\n",
       "      <th>4</th>\n",
       "      <td>Angola</td>\n",
       "      <td>27859.3</td>\n",
       "      <td>28852.9</td>\n",
       "    </tr>\n",
       "  </tbody>\n",
       "</table>\n",
       "</div>"
      ],
      "text/plain": [
       "          country     2015     2016\n",
       "0     Afghanistan  33736.5  34600.2\n",
       "1         Albania  2923.35  2927.09\n",
       "2         Algeria  39871.5  40563.9\n",
       "3  American Samoa      NaN      NaN\n",
       "4          Angola  27859.3  28852.9"
      ]
     },
     "execution_count": 33,
     "metadata": {},
     "output_type": "execute_result"
    }
   ],
   "source": [
    "pop.head()"
   ]
  },
  {
   "cell_type": "code",
   "execution_count": 34,
   "metadata": {},
   "outputs": [
    {
     "data": {
      "text/html": [
       "<div>\n",
       "<style scoped>\n",
       "    .dataframe tbody tr th:only-of-type {\n",
       "        vertical-align: middle;\n",
       "    }\n",
       "\n",
       "    .dataframe tbody tr th {\n",
       "        vertical-align: top;\n",
       "    }\n",
       "\n",
       "    .dataframe thead th {\n",
       "        text-align: right;\n",
       "    }\n",
       "</style>\n",
       "<table border=\"1\" class=\"dataframe\">\n",
       "  <thead>\n",
       "    <tr style=\"text-align: right;\">\n",
       "      <th></th>\n",
       "      <th>Country</th>\n",
       "      <th>ISO3</th>\n",
       "      <th>Region</th>\n",
       "      <th>CPI Score 2018</th>\n",
       "      <th>Rank</th>\n",
       "      <th>Standard error</th>\n",
       "      <th>Number of sources</th>\n",
       "      <th>Upper CI</th>\n",
       "      <th>Lower CI</th>\n",
       "      <th>African Development Bank CPIA</th>\n",
       "      <th>...</th>\n",
       "      <th>Economist Intelligence Unit Country Ratings</th>\n",
       "      <th>Freedom House Nations in Transit Ratings</th>\n",
       "      <th>Global Insight Country Risk Ratings</th>\n",
       "      <th>IMD World Competitiveness Yearbook</th>\n",
       "      <th>PERC Asia Risk Guide</th>\n",
       "      <th>PRS International Country Risk Guide</th>\n",
       "      <th>World Bank CPIA</th>\n",
       "      <th>World Economic Forum EOS</th>\n",
       "      <th>World Justice Project Rule of Law Index</th>\n",
       "      <th>Varieties of Democracy Project</th>\n",
       "    </tr>\n",
       "  </thead>\n",
       "  <tbody>\n",
       "    <tr>\n",
       "      <th>0</th>\n",
       "      <td>Denmark</td>\n",
       "      <td>DNK</td>\n",
       "      <td>WE/EU</td>\n",
       "      <td>88</td>\n",
       "      <td>1</td>\n",
       "      <td>2.63</td>\n",
       "      <td>8</td>\n",
       "      <td>92</td>\n",
       "      <td>84</td>\n",
       "      <td>NaN</td>\n",
       "      <td>...</td>\n",
       "      <td>90.0</td>\n",
       "      <td>NaN</td>\n",
       "      <td>83</td>\n",
       "      <td>97.0</td>\n",
       "      <td>NaN</td>\n",
       "      <td>92.0</td>\n",
       "      <td>NaN</td>\n",
       "      <td>79.0</td>\n",
       "      <td>88.0</td>\n",
       "      <td>78.0</td>\n",
       "    </tr>\n",
       "    <tr>\n",
       "      <th>1</th>\n",
       "      <td>New Zealand</td>\n",
       "      <td>NZL</td>\n",
       "      <td>AP</td>\n",
       "      <td>87</td>\n",
       "      <td>2</td>\n",
       "      <td>2.44</td>\n",
       "      <td>8</td>\n",
       "      <td>91</td>\n",
       "      <td>83</td>\n",
       "      <td>NaN</td>\n",
       "      <td>...</td>\n",
       "      <td>90.0</td>\n",
       "      <td>NaN</td>\n",
       "      <td>83</td>\n",
       "      <td>92.0</td>\n",
       "      <td>NaN</td>\n",
       "      <td>93.0</td>\n",
       "      <td>NaN</td>\n",
       "      <td>83.0</td>\n",
       "      <td>82.0</td>\n",
       "      <td>77.0</td>\n",
       "    </tr>\n",
       "    <tr>\n",
       "      <th>2</th>\n",
       "      <td>Finland</td>\n",
       "      <td>FIN</td>\n",
       "      <td>WE/EU</td>\n",
       "      <td>85</td>\n",
       "      <td>3</td>\n",
       "      <td>2.74</td>\n",
       "      <td>8</td>\n",
       "      <td>89</td>\n",
       "      <td>81</td>\n",
       "      <td>NaN</td>\n",
       "      <td>...</td>\n",
       "      <td>72.0</td>\n",
       "      <td>NaN</td>\n",
       "      <td>83</td>\n",
       "      <td>93.0</td>\n",
       "      <td>NaN</td>\n",
       "      <td>93.0</td>\n",
       "      <td>NaN</td>\n",
       "      <td>90.0</td>\n",
       "      <td>86.0</td>\n",
       "      <td>76.0</td>\n",
       "    </tr>\n",
       "    <tr>\n",
       "      <th>3</th>\n",
       "      <td>Singapore</td>\n",
       "      <td>SGP</td>\n",
       "      <td>AP</td>\n",
       "      <td>85</td>\n",
       "      <td>3</td>\n",
       "      <td>1.98</td>\n",
       "      <td>9</td>\n",
       "      <td>88</td>\n",
       "      <td>82</td>\n",
       "      <td>NaN</td>\n",
       "      <td>...</td>\n",
       "      <td>90.0</td>\n",
       "      <td>NaN</td>\n",
       "      <td>83</td>\n",
       "      <td>90.0</td>\n",
       "      <td>89.0</td>\n",
       "      <td>85.0</td>\n",
       "      <td>NaN</td>\n",
       "      <td>90.0</td>\n",
       "      <td>85.0</td>\n",
       "      <td>78.0</td>\n",
       "    </tr>\n",
       "    <tr>\n",
       "      <th>4</th>\n",
       "      <td>Sweden</td>\n",
       "      <td>SWE</td>\n",
       "      <td>WE/EU</td>\n",
       "      <td>85</td>\n",
       "      <td>3</td>\n",
       "      <td>2.02</td>\n",
       "      <td>8</td>\n",
       "      <td>88</td>\n",
       "      <td>82</td>\n",
       "      <td>NaN</td>\n",
       "      <td>...</td>\n",
       "      <td>90.0</td>\n",
       "      <td>NaN</td>\n",
       "      <td>83</td>\n",
       "      <td>81.0</td>\n",
       "      <td>NaN</td>\n",
       "      <td>93.0</td>\n",
       "      <td>NaN</td>\n",
       "      <td>77.0</td>\n",
       "      <td>86.0</td>\n",
       "      <td>78.0</td>\n",
       "    </tr>\n",
       "  </tbody>\n",
       "</table>\n",
       "<p>5 rows × 22 columns</p>\n",
       "</div>"
      ],
      "text/plain": [
       "       Country ISO3 Region  CPI Score 2018  Rank   Standard error  \\\n",
       "0      Denmark  DNK  WE/EU              88      1            2.63   \n",
       "1  New Zealand  NZL     AP              87      2            2.44   \n",
       "2      Finland  FIN  WE/EU              85      3            2.74   \n",
       "3    Singapore  SGP     AP              85      3            1.98   \n",
       "4       Sweden  SWE  WE/EU              85      3            2.02   \n",
       "\n",
       "   Number of sources  Upper CI  Lower CI   African Development Bank CPIA  ...  \\\n",
       "0                  8        92         84                            NaN  ...   \n",
       "1                  8        91         83                            NaN  ...   \n",
       "2                  8        89         81                            NaN  ...   \n",
       "3                  9        88         82                            NaN  ...   \n",
       "4                  8        88         82                            NaN  ...   \n",
       "\n",
       "   Economist Intelligence Unit Country Ratings  \\\n",
       "0                                         90.0   \n",
       "1                                         90.0   \n",
       "2                                         72.0   \n",
       "3                                         90.0   \n",
       "4                                         90.0   \n",
       "\n",
       "   Freedom House Nations in Transit Ratings  \\\n",
       "0                                       NaN   \n",
       "1                                       NaN   \n",
       "2                                       NaN   \n",
       "3                                       NaN   \n",
       "4                                       NaN   \n",
       "\n",
       "   Global Insight Country Risk Ratings  IMD World Competitiveness Yearbook  \\\n",
       "0                                   83                                97.0   \n",
       "1                                   83                                92.0   \n",
       "2                                   83                                93.0   \n",
       "3                                   83                                90.0   \n",
       "4                                   83                                81.0   \n",
       "\n",
       "   PERC Asia Risk Guide  PRS International Country Risk Guide  \\\n",
       "0                   NaN                                  92.0   \n",
       "1                   NaN                                  93.0   \n",
       "2                   NaN                                  93.0   \n",
       "3                  89.0                                  85.0   \n",
       "4                   NaN                                  93.0   \n",
       "\n",
       "   World Bank CPIA  World Economic Forum EOS  \\\n",
       "0              NaN                      79.0   \n",
       "1              NaN                      83.0   \n",
       "2              NaN                      90.0   \n",
       "3              NaN                      90.0   \n",
       "4              NaN                      77.0   \n",
       "\n",
       "   World Justice Project Rule of Law Index  Varieties of Democracy Project  \n",
       "0                                     88.0                            78.0  \n",
       "1                                     82.0                            77.0  \n",
       "2                                     86.0                            76.0  \n",
       "3                                     85.0                            78.0  \n",
       "4                                     86.0                            78.0  \n",
       "\n",
       "[5 rows x 22 columns]"
      ]
     },
     "execution_count": 34,
     "metadata": {},
     "output_type": "execute_result"
    }
   ],
   "source": [
    "corr.head()"
   ]
  },
  {
   "cell_type": "markdown",
   "metadata": {},
   "source": [
    "## rename columns"
   ]
  },
  {
   "cell_type": "code",
   "execution_count": 13,
   "metadata": {},
   "outputs": [],
   "source": [
    "### rename columns\n",
    "pop = pop.rename(columns={'Unnamed: 0':'country'})\n",
    "gdp = gdp.rename(columns={'Gross Domestic Product':'country'})\n",
    "main = main.rename(columns={'Emissions':'country'})"
   ]
  },
  {
   "cell_type": "code",
   "execution_count": null,
   "metadata": {},
   "outputs": [],
   "source": []
  },
  {
   "cell_type": "markdown",
   "metadata": {},
   "source": [
    "## drop 2015 columns"
   ]
  },
  {
   "cell_type": "code",
   "execution_count": 14,
   "metadata": {},
   "outputs": [
    {
     "data": {
      "text/html": [
       "<div>\n",
       "<style scoped>\n",
       "    .dataframe tbody tr th:only-of-type {\n",
       "        vertical-align: middle;\n",
       "    }\n",
       "\n",
       "    .dataframe tbody tr th {\n",
       "        vertical-align: top;\n",
       "    }\n",
       "\n",
       "    .dataframe thead th {\n",
       "        text-align: right;\n",
       "    }\n",
       "</style>\n",
       "<table border=\"1\" class=\"dataframe\">\n",
       "  <thead>\n",
       "    <tr style=\"text-align: right;\">\n",
       "      <th></th>\n",
       "      <th>country</th>\n",
       "      <th>2015</th>\n",
       "      <th>2016</th>\n",
       "    </tr>\n",
       "  </thead>\n",
       "  <tbody>\n",
       "    <tr>\n",
       "      <th>0</th>\n",
       "      <td>Afghanistan</td>\n",
       "      <td>33736.5</td>\n",
       "      <td>34600.2</td>\n",
       "    </tr>\n",
       "    <tr>\n",
       "      <th>1</th>\n",
       "      <td>Albania</td>\n",
       "      <td>2923.35</td>\n",
       "      <td>2927.09</td>\n",
       "    </tr>\n",
       "    <tr>\n",
       "      <th>2</th>\n",
       "      <td>Algeria</td>\n",
       "      <td>39871.5</td>\n",
       "      <td>40563.9</td>\n",
       "    </tr>\n",
       "    <tr>\n",
       "      <th>3</th>\n",
       "      <td>American Samoa</td>\n",
       "      <td>NaN</td>\n",
       "      <td>NaN</td>\n",
       "    </tr>\n",
       "    <tr>\n",
       "      <th>4</th>\n",
       "      <td>Angola</td>\n",
       "      <td>27859.3</td>\n",
       "      <td>28852.9</td>\n",
       "    </tr>\n",
       "  </tbody>\n",
       "</table>\n",
       "</div>"
      ],
      "text/plain": [
       "          country     2015     2016\n",
       "0     Afghanistan  33736.5  34600.2\n",
       "1         Albania  2923.35  2927.09\n",
       "2         Algeria  39871.5  40563.9\n",
       "3  American Samoa      NaN      NaN\n",
       "4          Angola  27859.3  28852.9"
      ]
     },
     "execution_count": 14,
     "metadata": {},
     "output_type": "execute_result"
    }
   ],
   "source": [
    "pop.head()"
   ]
  },
  {
   "cell_type": "code",
   "execution_count": 15,
   "metadata": {},
   "outputs": [],
   "source": [
    "# pop = pop.drop('2015',axis=1)\n",
    "gdp = gdp.drop('2015',axis=1)\n",
    "# # main = main.drop(columns=['2015'])"
   ]
  },
  {
   "cell_type": "code",
   "execution_count": 16,
   "metadata": {},
   "outputs": [
    {
     "data": {
      "text/html": [
       "<div>\n",
       "<style scoped>\n",
       "    .dataframe tbody tr th:only-of-type {\n",
       "        vertical-align: middle;\n",
       "    }\n",
       "\n",
       "    .dataframe tbody tr th {\n",
       "        vertical-align: top;\n",
       "    }\n",
       "\n",
       "    .dataframe thead th {\n",
       "        text-align: right;\n",
       "    }\n",
       "</style>\n",
       "<table border=\"1\" class=\"dataframe\">\n",
       "  <thead>\n",
       "    <tr style=\"text-align: right;\">\n",
       "      <th></th>\n",
       "      <th>country</th>\n",
       "      <th>2016</th>\n",
       "    </tr>\n",
       "  </thead>\n",
       "  <tbody>\n",
       "    <tr>\n",
       "      <th>0</th>\n",
       "      <td>Afghanistan</td>\n",
       "      <td>59.6389</td>\n",
       "    </tr>\n",
       "    <tr>\n",
       "      <th>1</th>\n",
       "      <td>Albania</td>\n",
       "      <td>30.8758</td>\n",
       "    </tr>\n",
       "    <tr>\n",
       "      <th>2</th>\n",
       "      <td>Algeria</td>\n",
       "      <td>553.624</td>\n",
       "    </tr>\n",
       "    <tr>\n",
       "      <th>3</th>\n",
       "      <td>American Samoa</td>\n",
       "      <td>NaN</td>\n",
       "    </tr>\n",
       "    <tr>\n",
       "      <th>4</th>\n",
       "      <td>Angola</td>\n",
       "      <td>176.813</td>\n",
       "    </tr>\n",
       "  </tbody>\n",
       "</table>\n",
       "</div>"
      ],
      "text/plain": [
       "          country     2016\n",
       "0     Afghanistan  59.6389\n",
       "1         Albania  30.8758\n",
       "2         Algeria  553.624\n",
       "3  American Samoa      NaN\n",
       "4          Angola  176.813"
      ]
     },
     "execution_count": 16,
     "metadata": {},
     "output_type": "execute_result"
    }
   ],
   "source": [
    "gdp.head()"
   ]
  },
  {
   "cell_type": "code",
   "execution_count": 42,
   "metadata": {},
   "outputs": [
    {
     "data": {
      "text/plain": [
       "Index(['country', '2015', '2016'], dtype='object')"
      ]
     },
     "execution_count": 42,
     "metadata": {},
     "output_type": "execute_result"
    }
   ],
   "source": []
  },
  {
   "cell_type": "markdown",
   "metadata": {},
   "source": [
    "##  join the dataframes on key=country"
   ]
  },
  {
   "cell_type": "code",
   "execution_count": null,
   "metadata": {},
   "outputs": [],
   "source": [
    "# test join: gdp and pop"
   ]
  },
  {
   "cell_type": "code",
   "execution_count": 117,
   "metadata": {},
   "outputs": [],
   "source": [
    "# test = gdp.set_index('country').join(pop.set_index('country'))"
   ]
  },
  {
   "cell_type": "code",
   "execution_count": 17,
   "metadata": {},
   "outputs": [
    {
     "ename": "NameError",
     "evalue": "name 'df_a' is not defined",
     "output_type": "error",
     "traceback": [
      "\u001b[0;31m---------------------------------------------------------------------------\u001b[0m",
      "\u001b[0;31mNameError\u001b[0m                                 Traceback (most recent call last)",
      "\u001b[0;32m<ipython-input-17-16e164c86755>\u001b[0m in \u001b[0;36m<module>\u001b[0;34m\u001b[0m\n\u001b[0;32m----> 1\u001b[0;31m \u001b[0mdf_a\u001b[0m\u001b[0;34m.\u001b[0m\u001b[0mmerge\u001b[0m\u001b[0;34m(\u001b[0m\u001b[0mdf_b\u001b[0m\u001b[0;34m,\u001b[0m \u001b[0mon\u001b[0m\u001b[0;34m=\u001b[0m\u001b[0;34m'mukey'\u001b[0m\u001b[0;34m,\u001b[0m \u001b[0mhow\u001b[0m\u001b[0;34m=\u001b[0m\u001b[0;34m'left'\u001b[0m\u001b[0;34m)\u001b[0m\u001b[0;34m\u001b[0m\u001b[0;34m\u001b[0m\u001b[0m\n\u001b[0m",
      "\u001b[0;31mNameError\u001b[0m: name 'df_a' is not defined"
     ]
    }
   ],
   "source": [
    "df_a.merge(df_b, on='mukey', how='left')"
   ]
  },
  {
   "cell_type": "code",
   "execution_count": 18,
   "metadata": {},
   "outputs": [],
   "source": [
    "test = gdp.merge(pop, on='country', how='left')"
   ]
  },
  {
   "cell_type": "code",
   "execution_count": 19,
   "metadata": {},
   "outputs": [
    {
     "data": {
      "text/html": [
       "<div>\n",
       "<style scoped>\n",
       "    .dataframe tbody tr th:only-of-type {\n",
       "        vertical-align: middle;\n",
       "    }\n",
       "\n",
       "    .dataframe tbody tr th {\n",
       "        vertical-align: top;\n",
       "    }\n",
       "\n",
       "    .dataframe thead th {\n",
       "        text-align: right;\n",
       "    }\n",
       "</style>\n",
       "<table border=\"1\" class=\"dataframe\">\n",
       "  <thead>\n",
       "    <tr style=\"text-align: right;\">\n",
       "      <th></th>\n",
       "      <th>country</th>\n",
       "      <th>2016_x</th>\n",
       "      <th>2015</th>\n",
       "      <th>2016_y</th>\n",
       "    </tr>\n",
       "  </thead>\n",
       "  <tbody>\n",
       "    <tr>\n",
       "      <th>0</th>\n",
       "      <td>Afghanistan</td>\n",
       "      <td>59.6389</td>\n",
       "      <td>33736.5</td>\n",
       "      <td>34600.2</td>\n",
       "    </tr>\n",
       "    <tr>\n",
       "      <th>1</th>\n",
       "      <td>Albania</td>\n",
       "      <td>30.8758</td>\n",
       "      <td>2923.35</td>\n",
       "      <td>2927.09</td>\n",
       "    </tr>\n",
       "    <tr>\n",
       "      <th>2</th>\n",
       "      <td>Algeria</td>\n",
       "      <td>553.624</td>\n",
       "      <td>39871.5</td>\n",
       "      <td>40563.9</td>\n",
       "    </tr>\n",
       "    <tr>\n",
       "      <th>3</th>\n",
       "      <td>American Samoa</td>\n",
       "      <td>NaN</td>\n",
       "      <td>NaN</td>\n",
       "      <td>NaN</td>\n",
       "    </tr>\n",
       "    <tr>\n",
       "      <th>4</th>\n",
       "      <td>Angola</td>\n",
       "      <td>176.813</td>\n",
       "      <td>27859.3</td>\n",
       "      <td>28852.9</td>\n",
       "    </tr>\n",
       "  </tbody>\n",
       "</table>\n",
       "</div>"
      ],
      "text/plain": [
       "          country   2016_x     2015   2016_y\n",
       "0     Afghanistan  59.6389  33736.5  34600.2\n",
       "1         Albania  30.8758  2923.35  2927.09\n",
       "2         Algeria  553.624  39871.5  40563.9\n",
       "3  American Samoa      NaN      NaN      NaN\n",
       "4          Angola  176.813  27859.3  28852.9"
      ]
     },
     "execution_count": 19,
     "metadata": {},
     "output_type": "execute_result"
    }
   ],
   "source": [
    "test.head()"
   ]
  },
  {
   "cell_type": "code",
   "execution_count": null,
   "metadata": {},
   "outputs": [],
   "source": [
    "'''\n",
    "interesting. it looks like we'll have to reassign the column names... but that's a little 'do it by hand'.\n",
    "why don't i just take the original dataframes and rename the columns to something more accurate?\n",
    "and then just remember that the data is 2016\n",
    "'''"
   ]
  },
  {
   "cell_type": "code",
   "execution_count": 20,
   "metadata": {},
   "outputs": [
    {
     "name": "stdout",
     "output_type": "stream",
     "text": [
      "Index(['country', '2015', '2016'], dtype='object') \n",
      " Index(['country', '2016'], dtype='object') \n",
      " Index(['country', '2015', '2016'], dtype='object')\n"
     ]
    }
   ],
   "source": [
    "print(main.columns, '\\n', gdp.columns, '\\n', pop.columns)\n",
    "main = main.rename(columns={'2016':'co2_mmt'})\n",
    "gdp = gdp.rename(columns={'2016':'billions_usd'})\n",
    "pop = pop.rename(columns={'2016':'thousand'}) # perhaps we can convert this to 'people' with some multiplication later\n"
   ]
  },
  {
   "cell_type": "code",
   "execution_count": 21,
   "metadata": {},
   "outputs": [
    {
     "name": "stdout",
     "output_type": "stream",
     "text": [
      "Index(['country', '2015', 'co2_mmt'], dtype='object') \n",
      " Index(['country', 'billions_usd'], dtype='object') \n",
      " Index(['country', '2015', 'thousand'], dtype='object')\n"
     ]
    }
   ],
   "source": [
    "print(main.columns, '\\n', gdp.columns, '\\n', pop.columns)\n",
    "# nice. let's merge anew"
   ]
  },
  {
   "cell_type": "code",
   "execution_count": 22,
   "metadata": {},
   "outputs": [],
   "source": [
    "test = gdp.merge(pop, on='country', how='left')"
   ]
  },
  {
   "cell_type": "code",
   "execution_count": 23,
   "metadata": {},
   "outputs": [
    {
     "data": {
      "text/html": [
       "<div>\n",
       "<style scoped>\n",
       "    .dataframe tbody tr th:only-of-type {\n",
       "        vertical-align: middle;\n",
       "    }\n",
       "\n",
       "    .dataframe tbody tr th {\n",
       "        vertical-align: top;\n",
       "    }\n",
       "\n",
       "    .dataframe thead th {\n",
       "        text-align: right;\n",
       "    }\n",
       "</style>\n",
       "<table border=\"1\" class=\"dataframe\">\n",
       "  <thead>\n",
       "    <tr style=\"text-align: right;\">\n",
       "      <th></th>\n",
       "      <th>country</th>\n",
       "      <th>billions_usd</th>\n",
       "      <th>2015</th>\n",
       "      <th>thousand</th>\n",
       "    </tr>\n",
       "  </thead>\n",
       "  <tbody>\n",
       "    <tr>\n",
       "      <th>0</th>\n",
       "      <td>Afghanistan</td>\n",
       "      <td>59.6389</td>\n",
       "      <td>33736.5</td>\n",
       "      <td>34600.2</td>\n",
       "    </tr>\n",
       "    <tr>\n",
       "      <th>1</th>\n",
       "      <td>Albania</td>\n",
       "      <td>30.8758</td>\n",
       "      <td>2923.35</td>\n",
       "      <td>2927.09</td>\n",
       "    </tr>\n",
       "    <tr>\n",
       "      <th>2</th>\n",
       "      <td>Algeria</td>\n",
       "      <td>553.624</td>\n",
       "      <td>39871.5</td>\n",
       "      <td>40563.9</td>\n",
       "    </tr>\n",
       "    <tr>\n",
       "      <th>3</th>\n",
       "      <td>American Samoa</td>\n",
       "      <td>NaN</td>\n",
       "      <td>NaN</td>\n",
       "      <td>NaN</td>\n",
       "    </tr>\n",
       "    <tr>\n",
       "      <th>4</th>\n",
       "      <td>Angola</td>\n",
       "      <td>176.813</td>\n",
       "      <td>27859.3</td>\n",
       "      <td>28852.9</td>\n",
       "    </tr>\n",
       "  </tbody>\n",
       "</table>\n",
       "</div>"
      ],
      "text/plain": [
       "          country billions_usd     2015 thousand\n",
       "0     Afghanistan      59.6389  33736.5  34600.2\n",
       "1         Albania      30.8758  2923.35  2927.09\n",
       "2         Algeria      553.624  39871.5  40563.9\n",
       "3  American Samoa          NaN      NaN      NaN\n",
       "4          Angola      176.813  27859.3  28852.9"
      ]
     },
     "execution_count": 23,
     "metadata": {},
     "output_type": "execute_result"
    }
   ],
   "source": [
    "test.head()"
   ]
  },
  {
   "cell_type": "code",
   "execution_count": 61,
   "metadata": {},
   "outputs": [],
   "source": [
    "test = test.merge(main, on='country', how='left') # is there a way to mass-merge, i wonder?\n",
    "# if i've got 100 columns in 100 CSVs, surely there's a method to merge them on the same key column"
   ]
  },
  {
   "cell_type": "code",
   "execution_count": 63,
   "metadata": {},
   "outputs": [
    {
     "data": {
      "text/html": [
       "<div>\n",
       "<style scoped>\n",
       "    .dataframe tbody tr th:only-of-type {\n",
       "        vertical-align: middle;\n",
       "    }\n",
       "\n",
       "    .dataframe tbody tr th {\n",
       "        vertical-align: top;\n",
       "    }\n",
       "\n",
       "    .dataframe thead th {\n",
       "        text-align: right;\n",
       "    }\n",
       "</style>\n",
       "<table border=\"1\" class=\"dataframe\">\n",
       "  <thead>\n",
       "    <tr style=\"text-align: right;\">\n",
       "      <th></th>\n",
       "      <th>country</th>\n",
       "      <th>billions_usd</th>\n",
       "      <th>thousand</th>\n",
       "      <th>co2_mmt</th>\n",
       "    </tr>\n",
       "  </thead>\n",
       "  <tbody>\n",
       "    <tr>\n",
       "      <th>0</th>\n",
       "      <td>Afghanistan</td>\n",
       "      <td>59.6389</td>\n",
       "      <td>34600.2</td>\n",
       "      <td>8.541487914</td>\n",
       "    </tr>\n",
       "    <tr>\n",
       "      <th>1</th>\n",
       "      <td>Afghanistan</td>\n",
       "      <td>59.6389</td>\n",
       "      <td>34600.2</td>\n",
       "      <td>3.3005920383081</td>\n",
       "    </tr>\n",
       "    <tr>\n",
       "      <th>2</th>\n",
       "      <td>Afghanistan</td>\n",
       "      <td>59.6389</td>\n",
       "      <td>34600.2</td>\n",
       "      <td>0.324276157</td>\n",
       "    </tr>\n",
       "    <tr>\n",
       "      <th>3</th>\n",
       "      <td>Afghanistan</td>\n",
       "      <td>59.6389</td>\n",
       "      <td>34600.2</td>\n",
       "      <td>4.9166197189708</td>\n",
       "    </tr>\n",
       "    <tr>\n",
       "      <th>4</th>\n",
       "      <td>Albania</td>\n",
       "      <td>30.8758</td>\n",
       "      <td>2927.09</td>\n",
       "      <td>4.221155175</td>\n",
       "    </tr>\n",
       "    <tr>\n",
       "      <th>5</th>\n",
       "      <td>Albania</td>\n",
       "      <td>30.8758</td>\n",
       "      <td>2927.09</td>\n",
       "      <td>0.24143854109673</td>\n",
       "    </tr>\n",
       "    <tr>\n",
       "      <th>6</th>\n",
       "      <td>Albania</td>\n",
       "      <td>30.8758</td>\n",
       "      <td>2927.09</td>\n",
       "      <td>0.083641087</td>\n",
       "    </tr>\n",
       "    <tr>\n",
       "      <th>7</th>\n",
       "      <td>Albania</td>\n",
       "      <td>30.8758</td>\n",
       "      <td>2927.09</td>\n",
       "      <td>3.8960755467245</td>\n",
       "    </tr>\n",
       "    <tr>\n",
       "      <th>8</th>\n",
       "      <td>Algeria</td>\n",
       "      <td>553.624</td>\n",
       "      <td>40563.9</td>\n",
       "      <td>138.723247027</td>\n",
       "    </tr>\n",
       "    <tr>\n",
       "      <th>9</th>\n",
       "      <td>Algeria</td>\n",
       "      <td>553.624</td>\n",
       "      <td>40563.9</td>\n",
       "      <td>0.39625362043311</td>\n",
       "    </tr>\n",
       "  </tbody>\n",
       "</table>\n",
       "</div>"
      ],
      "text/plain": [
       "       country billions_usd thousand           co2_mmt\n",
       "0  Afghanistan      59.6389  34600.2       8.541487914\n",
       "1  Afghanistan      59.6389  34600.2   3.3005920383081\n",
       "2  Afghanistan      59.6389  34600.2       0.324276157\n",
       "3  Afghanistan      59.6389  34600.2   4.9166197189708\n",
       "4      Albania      30.8758  2927.09       4.221155175\n",
       "5      Albania      30.8758  2927.09  0.24143854109673\n",
       "6      Albania      30.8758  2927.09       0.083641087\n",
       "7      Albania      30.8758  2927.09   3.8960755467245\n",
       "8      Algeria      553.624  40563.9     138.723247027\n",
       "9      Algeria      553.624  40563.9  0.39625362043311"
      ]
     },
     "execution_count": 63,
     "metadata": {},
     "output_type": "execute_result"
    }
   ],
   "source": [
    "test.head(10)"
   ]
  },
  {
   "cell_type": "code",
   "execution_count": null,
   "metadata": {},
   "outputs": [],
   "source": [
    "'''\n",
    "oh, this isn't good at all. merging in 'main' gave us three duplicates. let's inspect main.\n",
    "'''"
   ]
  },
  {
   "cell_type": "code",
   "execution_count": 65,
   "metadata": {},
   "outputs": [
    {
     "data": {
      "text/html": [
       "<div>\n",
       "<style scoped>\n",
       "    .dataframe tbody tr th:only-of-type {\n",
       "        vertical-align: middle;\n",
       "    }\n",
       "\n",
       "    .dataframe tbody tr th {\n",
       "        vertical-align: top;\n",
       "    }\n",
       "\n",
       "    .dataframe thead th {\n",
       "        text-align: right;\n",
       "    }\n",
       "</style>\n",
       "<table border=\"1\" class=\"dataframe\">\n",
       "  <thead>\n",
       "    <tr style=\"text-align: right;\">\n",
       "      <th></th>\n",
       "      <th>country</th>\n",
       "      <th>co2_mmt</th>\n",
       "    </tr>\n",
       "  </thead>\n",
       "  <tbody>\n",
       "    <tr>\n",
       "      <th>0</th>\n",
       "      <td>Afghanistan</td>\n",
       "      <td>8.541487914</td>\n",
       "    </tr>\n",
       "    <tr>\n",
       "      <th>1</th>\n",
       "      <td>Albania</td>\n",
       "      <td>4.221155175</td>\n",
       "    </tr>\n",
       "    <tr>\n",
       "      <th>2</th>\n",
       "      <td>Algeria</td>\n",
       "      <td>138.723247027</td>\n",
       "    </tr>\n",
       "    <tr>\n",
       "      <th>3</th>\n",
       "      <td>American Samoa</td>\n",
       "      <td>0.360661844</td>\n",
       "    </tr>\n",
       "    <tr>\n",
       "      <th>4</th>\n",
       "      <td>Angola</td>\n",
       "      <td>21.417035574</td>\n",
       "    </tr>\n",
       "    <tr>\n",
       "      <th>5</th>\n",
       "      <td>Antarctica</td>\n",
       "      <td>0.015266697</td>\n",
       "    </tr>\n",
       "    <tr>\n",
       "      <th>6</th>\n",
       "      <td>Antigua and Barbuda</td>\n",
       "      <td>0.741255424</td>\n",
       "    </tr>\n",
       "    <tr>\n",
       "      <th>7</th>\n",
       "      <td>Argentina</td>\n",
       "      <td>194.099937985</td>\n",
       "    </tr>\n",
       "  </tbody>\n",
       "</table>\n",
       "</div>"
      ],
      "text/plain": [
       "               country        co2_mmt\n",
       "0          Afghanistan    8.541487914\n",
       "1              Albania    4.221155175\n",
       "2              Algeria  138.723247027\n",
       "3       American Samoa    0.360661844\n",
       "4               Angola   21.417035574\n",
       "5           Antarctica    0.015266697\n",
       "6  Antigua and Barbuda    0.741255424\n",
       "7            Argentina  194.099937985"
      ]
     },
     "execution_count": 65,
     "metadata": {},
     "output_type": "execute_result"
    }
   ],
   "source": [
    "main.head(8) # no duplicates. something with length mismatch?"
   ]
  },
  {
   "cell_type": "code",
   "execution_count": 67,
   "metadata": {},
   "outputs": [
    {
     "name": "stdout",
     "output_type": "stream",
     "text": [
      "230 230 920 923\n"
     ]
    }
   ],
   "source": [
    "print(len(gdp),len(pop),len(test),len(main))"
   ]
  },
  {
   "cell_type": "code",
   "execution_count": null,
   "metadata": {},
   "outputs": [],
   "source": [
    "# oh my. i'm sure it has something to do with the 'how' specifier in merge"
   ]
  },
  {
   "cell_type": "code",
   "execution_count": 68,
   "metadata": {},
   "outputs": [],
   "source": [
    "test_2 = gdp.merge(pop,on='country',how='inner')"
   ]
  },
  {
   "cell_type": "code",
   "execution_count": 69,
   "metadata": {},
   "outputs": [
    {
     "data": {
      "text/plain": [
       "230"
      ]
     },
     "execution_count": 69,
     "metadata": {},
     "output_type": "execute_result"
    }
   ],
   "source": [
    "len(test_2) # that's better."
   ]
  },
  {
   "cell_type": "code",
   "execution_count": 70,
   "metadata": {},
   "outputs": [],
   "source": [
    "test_2 = test_2.merge(main,on='country',how='inner')"
   ]
  },
  {
   "cell_type": "code",
   "execution_count": 71,
   "metadata": {},
   "outputs": [
    {
     "data": {
      "text/plain": [
       "920"
      ]
     },
     "execution_count": 71,
     "metadata": {},
     "output_type": "execute_result"
    }
   ],
   "source": [
    "len(test_2) # oh no"
   ]
  },
  {
   "cell_type": "code",
   "execution_count": 72,
   "metadata": {},
   "outputs": [
    {
     "data": {
      "text/plain": [
       "923"
      ]
     },
     "execution_count": 72,
     "metadata": {},
     "output_type": "execute_result"
    }
   ],
   "source": [
    "len(main) # ah, that would explain things"
   ]
  },
  {
   "cell_type": "code",
   "execution_count": 24,
   "metadata": {},
   "outputs": [
    {
     "data": {
      "text/html": [
       "<div>\n",
       "<style scoped>\n",
       "    .dataframe tbody tr th:only-of-type {\n",
       "        vertical-align: middle;\n",
       "    }\n",
       "\n",
       "    .dataframe tbody tr th {\n",
       "        vertical-align: top;\n",
       "    }\n",
       "\n",
       "    .dataframe thead th {\n",
       "        text-align: right;\n",
       "    }\n",
       "</style>\n",
       "<table border=\"1\" class=\"dataframe\">\n",
       "  <thead>\n",
       "    <tr style=\"text-align: right;\">\n",
       "      <th></th>\n",
       "      <th>country</th>\n",
       "      <th>2015</th>\n",
       "      <th>co2_mmt</th>\n",
       "    </tr>\n",
       "  </thead>\n",
       "  <tbody>\n",
       "    <tr>\n",
       "      <th>228</th>\n",
       "      <td>Zambia</td>\n",
       "      <td>3.746348391</td>\n",
       "      <td>3.622226086</td>\n",
       "    </tr>\n",
       "    <tr>\n",
       "      <th>229</th>\n",
       "      <td>Zimbabwe</td>\n",
       "      <td>11.594936326</td>\n",
       "      <td>10.480809616</td>\n",
       "    </tr>\n",
       "    <tr>\n",
       "      <th>230</th>\n",
       "      <td>Coal and Coke</td>\n",
       "      <td>NaN</td>\n",
       "      <td>NaN</td>\n",
       "    </tr>\n",
       "    <tr>\n",
       "      <th>231</th>\n",
       "      <td>Afghanistan</td>\n",
       "      <td>2.6533027869791</td>\n",
       "      <td>3.3005920383081</td>\n",
       "    </tr>\n",
       "    <tr>\n",
       "      <th>232</th>\n",
       "      <td>Albania</td>\n",
       "      <td>0.30889394065761</td>\n",
       "      <td>0.24143854109673</td>\n",
       "    </tr>\n",
       "    <tr>\n",
       "      <th>233</th>\n",
       "      <td>Algeria</td>\n",
       "      <td>0.74817035613508</td>\n",
       "      <td>0.39625362043311</td>\n",
       "    </tr>\n",
       "    <tr>\n",
       "      <th>234</th>\n",
       "      <td>American Samoa</td>\n",
       "      <td>0</td>\n",
       "      <td>-</td>\n",
       "    </tr>\n",
       "  </tbody>\n",
       "</table>\n",
       "</div>"
      ],
      "text/plain": [
       "            country              2015           co2_mmt\n",
       "228          Zambia       3.746348391       3.622226086\n",
       "229        Zimbabwe      11.594936326      10.480809616\n",
       "230   Coal and Coke               NaN               NaN\n",
       "231     Afghanistan   2.6533027869791   3.3005920383081\n",
       "232         Albania  0.30889394065761  0.24143854109673\n",
       "233         Algeria  0.74817035613508  0.39625362043311\n",
       "234  American Samoa                 0                 -"
      ]
     },
     "execution_count": 24,
     "metadata": {},
     "output_type": "execute_result"
    }
   ],
   "source": [
    "'''\n",
    "i explored the emissions.csv a little more: the first ~230 indexes are emission totals for each country,\n",
    "but after that it starts listing off categorically - emissions by coal, natural gas, etc.\n",
    "so we'll just cut off main where we need to\n",
    "'''\n",
    "main[228:235] "
   ]
  },
  {
   "cell_type": "code",
   "execution_count": 25,
   "metadata": {},
   "outputs": [
    {
     "data": {
      "text/plain": [
       "230"
      ]
     },
     "execution_count": 25,
     "metadata": {},
     "output_type": "execute_result"
    }
   ],
   "source": [
    "# we can just slice it neatly off at index 230\n",
    "main = main[:230]\n",
    "len(main)"
   ]
  },
  {
   "cell_type": "code",
   "execution_count": 77,
   "metadata": {},
   "outputs": [],
   "source": [
    "# now let's re-merge\n",
    "test_2 = test_2.merge(main,on='country') # inner is a default, i think"
   ]
  },
  {
   "cell_type": "code",
   "execution_count": 78,
   "metadata": {},
   "outputs": [
    {
     "data": {
      "text/plain": [
       "920"
      ]
     },
     "execution_count": 78,
     "metadata": {},
     "output_type": "execute_result"
    }
   ],
   "source": [
    "len(test_2) # ?!?!"
   ]
  },
  {
   "cell_type": "code",
   "execution_count": 26,
   "metadata": {},
   "outputs": [
    {
     "name": "stdout",
     "output_type": "stream",
     "text": [
      "230 230 230\n"
     ]
    }
   ],
   "source": [
    "em = main\n",
    "print(len(em),len(gdp),len(pop))"
   ]
  },
  {
   "cell_type": "code",
   "execution_count": 27,
   "metadata": {
    "scrolled": true
   },
   "outputs": [
    {
     "name": "stdout",
     "output_type": "stream",
     "text": [
      "230 230\n"
     ]
    }
   ],
   "source": [
    "em_gdp = em.merge(gdp,on='country',how='inner')\n",
    "\n",
    "em_gdp_pop = em_gdp.merge(pop,on='country',how='inner')\n",
    "\n",
    "print(len(em_gdp,),len(em_gdp_pop)) # okay, looks like we just had to specify inner anyway."
   ]
  },
  {
   "cell_type": "code",
   "execution_count": 28,
   "metadata": {},
   "outputs": [
    {
     "data": {
      "text/html": [
       "<div>\n",
       "<style scoped>\n",
       "    .dataframe tbody tr th:only-of-type {\n",
       "        vertical-align: middle;\n",
       "    }\n",
       "\n",
       "    .dataframe tbody tr th {\n",
       "        vertical-align: top;\n",
       "    }\n",
       "\n",
       "    .dataframe thead th {\n",
       "        text-align: right;\n",
       "    }\n",
       "</style>\n",
       "<table border=\"1\" class=\"dataframe\">\n",
       "  <thead>\n",
       "    <tr style=\"text-align: right;\">\n",
       "      <th></th>\n",
       "      <th>country</th>\n",
       "      <th>2015_x</th>\n",
       "      <th>co2_mmt</th>\n",
       "      <th>billions_usd</th>\n",
       "      <th>2015_y</th>\n",
       "      <th>thousand</th>\n",
       "    </tr>\n",
       "  </thead>\n",
       "  <tbody>\n",
       "    <tr>\n",
       "      <th>0</th>\n",
       "      <td>Afghanistan</td>\n",
       "      <td>7.732860644</td>\n",
       "      <td>8.541487914</td>\n",
       "      <td>59.6389</td>\n",
       "      <td>33736.5</td>\n",
       "      <td>34600.2</td>\n",
       "    </tr>\n",
       "    <tr>\n",
       "      <th>1</th>\n",
       "      <td>Albania</td>\n",
       "      <td>4.100475029</td>\n",
       "      <td>4.221155175</td>\n",
       "      <td>30.8758</td>\n",
       "      <td>2923.35</td>\n",
       "      <td>2927.09</td>\n",
       "    </tr>\n",
       "    <tr>\n",
       "      <th>2</th>\n",
       "      <td>Algeria</td>\n",
       "      <td>144.828490377</td>\n",
       "      <td>138.723247027</td>\n",
       "      <td>553.624</td>\n",
       "      <td>39871.5</td>\n",
       "      <td>40563.9</td>\n",
       "    </tr>\n",
       "    <tr>\n",
       "      <th>3</th>\n",
       "      <td>American Samoa</td>\n",
       "      <td>0.355245915</td>\n",
       "      <td>0.360661844</td>\n",
       "      <td>NaN</td>\n",
       "      <td>NaN</td>\n",
       "      <td>NaN</td>\n",
       "    </tr>\n",
       "    <tr>\n",
       "      <th>4</th>\n",
       "      <td>Angola</td>\n",
       "      <td>36.182259864</td>\n",
       "      <td>21.417035574</td>\n",
       "      <td>176.813</td>\n",
       "      <td>27859.3</td>\n",
       "      <td>28852.9</td>\n",
       "    </tr>\n",
       "    <tr>\n",
       "      <th>5</th>\n",
       "      <td>Antarctica</td>\n",
       "      <td>0.014342885</td>\n",
       "      <td>0.015266697</td>\n",
       "      <td>NaN</td>\n",
       "      <td>NaN</td>\n",
       "      <td>NaN</td>\n",
       "    </tr>\n",
       "    <tr>\n",
       "      <th>6</th>\n",
       "      <td>Antigua and Barbuda</td>\n",
       "      <td>0.735377799</td>\n",
       "      <td>0.741255424</td>\n",
       "      <td>2.07874</td>\n",
       "      <td>99.923</td>\n",
       "      <td>100.96</td>\n",
       "    </tr>\n",
       "    <tr>\n",
       "      <th>7</th>\n",
       "      <td>Argentina</td>\n",
       "      <td>200.161807683</td>\n",
       "      <td>194.099937985</td>\n",
       "      <td>799.476</td>\n",
       "      <td>43471.3</td>\n",
       "      <td>43897.88</td>\n",
       "    </tr>\n",
       "    <tr>\n",
       "      <th>8</th>\n",
       "      <td>Armenia</td>\n",
       "      <td>5.053134828</td>\n",
       "      <td>5.219801504</td>\n",
       "      <td>23.4467</td>\n",
       "      <td>2916.95</td>\n",
       "      <td>2921.3</td>\n",
       "    </tr>\n",
       "    <tr>\n",
       "      <th>9</th>\n",
       "      <td>Aruba</td>\n",
       "      <td>1.243515051</td>\n",
       "      <td>1.264083756</td>\n",
       "      <td>2.55485</td>\n",
       "      <td>104.341</td>\n",
       "      <td>104.76</td>\n",
       "    </tr>\n",
       "  </tbody>\n",
       "</table>\n",
       "</div>"
      ],
      "text/plain": [
       "               country         2015_x        co2_mmt billions_usd   2015_y  \\\n",
       "0          Afghanistan    7.732860644    8.541487914      59.6389  33736.5   \n",
       "1              Albania    4.100475029    4.221155175      30.8758  2923.35   \n",
       "2              Algeria  144.828490377  138.723247027      553.624  39871.5   \n",
       "3       American Samoa    0.355245915    0.360661844          NaN      NaN   \n",
       "4               Angola   36.182259864   21.417035574      176.813  27859.3   \n",
       "5           Antarctica    0.014342885    0.015266697          NaN      NaN   \n",
       "6  Antigua and Barbuda    0.735377799    0.741255424      2.07874   99.923   \n",
       "7            Argentina  200.161807683  194.099937985      799.476  43471.3   \n",
       "8              Armenia    5.053134828    5.219801504      23.4467  2916.95   \n",
       "9                Aruba    1.243515051    1.264083756      2.55485  104.341   \n",
       "\n",
       "   thousand  \n",
       "0   34600.2  \n",
       "1   2927.09  \n",
       "2   40563.9  \n",
       "3       NaN  \n",
       "4   28852.9  \n",
       "5       NaN  \n",
       "6    100.96  \n",
       "7  43897.88  \n",
       "8    2921.3  \n",
       "9    104.76  "
      ]
     },
     "execution_count": 28,
     "metadata": {},
     "output_type": "execute_result"
    }
   ],
   "source": [
    "em_gdp_pop.head(10) # looking good. let's merge in corruption"
   ]
  },
  {
   "cell_type": "markdown",
   "metadata": {},
   "source": [
    "## merge in the more complex dataframe, corruption index"
   ]
  },
  {
   "cell_type": "code",
   "execution_count": 29,
   "metadata": {},
   "outputs": [
    {
     "data": {
      "text/html": [
       "<div>\n",
       "<style scoped>\n",
       "    .dataframe tbody tr th:only-of-type {\n",
       "        vertical-align: middle;\n",
       "    }\n",
       "\n",
       "    .dataframe tbody tr th {\n",
       "        vertical-align: top;\n",
       "    }\n",
       "\n",
       "    .dataframe thead th {\n",
       "        text-align: right;\n",
       "    }\n",
       "</style>\n",
       "<table border=\"1\" class=\"dataframe\">\n",
       "  <thead>\n",
       "    <tr style=\"text-align: right;\">\n",
       "      <th></th>\n",
       "      <th>Country</th>\n",
       "      <th>ISO3</th>\n",
       "      <th>Region</th>\n",
       "      <th>CPI Score 2018</th>\n",
       "      <th>Rank</th>\n",
       "      <th>Standard error</th>\n",
       "      <th>Number of sources</th>\n",
       "      <th>Upper CI</th>\n",
       "      <th>Lower CI</th>\n",
       "      <th>African Development Bank CPIA</th>\n",
       "      <th>...</th>\n",
       "      <th>Economist Intelligence Unit Country Ratings</th>\n",
       "      <th>Freedom House Nations in Transit Ratings</th>\n",
       "      <th>Global Insight Country Risk Ratings</th>\n",
       "      <th>IMD World Competitiveness Yearbook</th>\n",
       "      <th>PERC Asia Risk Guide</th>\n",
       "      <th>PRS International Country Risk Guide</th>\n",
       "      <th>World Bank CPIA</th>\n",
       "      <th>World Economic Forum EOS</th>\n",
       "      <th>World Justice Project Rule of Law Index</th>\n",
       "      <th>Varieties of Democracy Project</th>\n",
       "    </tr>\n",
       "  </thead>\n",
       "  <tbody>\n",
       "    <tr>\n",
       "      <th>0</th>\n",
       "      <td>Denmark</td>\n",
       "      <td>DNK</td>\n",
       "      <td>WE/EU</td>\n",
       "      <td>88</td>\n",
       "      <td>1</td>\n",
       "      <td>2.63</td>\n",
       "      <td>8</td>\n",
       "      <td>92</td>\n",
       "      <td>84</td>\n",
       "      <td>NaN</td>\n",
       "      <td>...</td>\n",
       "      <td>90.0</td>\n",
       "      <td>NaN</td>\n",
       "      <td>83</td>\n",
       "      <td>97.0</td>\n",
       "      <td>NaN</td>\n",
       "      <td>92.0</td>\n",
       "      <td>NaN</td>\n",
       "      <td>79.0</td>\n",
       "      <td>88.0</td>\n",
       "      <td>78.0</td>\n",
       "    </tr>\n",
       "    <tr>\n",
       "      <th>1</th>\n",
       "      <td>New Zealand</td>\n",
       "      <td>NZL</td>\n",
       "      <td>AP</td>\n",
       "      <td>87</td>\n",
       "      <td>2</td>\n",
       "      <td>2.44</td>\n",
       "      <td>8</td>\n",
       "      <td>91</td>\n",
       "      <td>83</td>\n",
       "      <td>NaN</td>\n",
       "      <td>...</td>\n",
       "      <td>90.0</td>\n",
       "      <td>NaN</td>\n",
       "      <td>83</td>\n",
       "      <td>92.0</td>\n",
       "      <td>NaN</td>\n",
       "      <td>93.0</td>\n",
       "      <td>NaN</td>\n",
       "      <td>83.0</td>\n",
       "      <td>82.0</td>\n",
       "      <td>77.0</td>\n",
       "    </tr>\n",
       "    <tr>\n",
       "      <th>2</th>\n",
       "      <td>Finland</td>\n",
       "      <td>FIN</td>\n",
       "      <td>WE/EU</td>\n",
       "      <td>85</td>\n",
       "      <td>3</td>\n",
       "      <td>2.74</td>\n",
       "      <td>8</td>\n",
       "      <td>89</td>\n",
       "      <td>81</td>\n",
       "      <td>NaN</td>\n",
       "      <td>...</td>\n",
       "      <td>72.0</td>\n",
       "      <td>NaN</td>\n",
       "      <td>83</td>\n",
       "      <td>93.0</td>\n",
       "      <td>NaN</td>\n",
       "      <td>93.0</td>\n",
       "      <td>NaN</td>\n",
       "      <td>90.0</td>\n",
       "      <td>86.0</td>\n",
       "      <td>76.0</td>\n",
       "    </tr>\n",
       "    <tr>\n",
       "      <th>3</th>\n",
       "      <td>Singapore</td>\n",
       "      <td>SGP</td>\n",
       "      <td>AP</td>\n",
       "      <td>85</td>\n",
       "      <td>3</td>\n",
       "      <td>1.98</td>\n",
       "      <td>9</td>\n",
       "      <td>88</td>\n",
       "      <td>82</td>\n",
       "      <td>NaN</td>\n",
       "      <td>...</td>\n",
       "      <td>90.0</td>\n",
       "      <td>NaN</td>\n",
       "      <td>83</td>\n",
       "      <td>90.0</td>\n",
       "      <td>89.0</td>\n",
       "      <td>85.0</td>\n",
       "      <td>NaN</td>\n",
       "      <td>90.0</td>\n",
       "      <td>85.0</td>\n",
       "      <td>78.0</td>\n",
       "    </tr>\n",
       "    <tr>\n",
       "      <th>4</th>\n",
       "      <td>Sweden</td>\n",
       "      <td>SWE</td>\n",
       "      <td>WE/EU</td>\n",
       "      <td>85</td>\n",
       "      <td>3</td>\n",
       "      <td>2.02</td>\n",
       "      <td>8</td>\n",
       "      <td>88</td>\n",
       "      <td>82</td>\n",
       "      <td>NaN</td>\n",
       "      <td>...</td>\n",
       "      <td>90.0</td>\n",
       "      <td>NaN</td>\n",
       "      <td>83</td>\n",
       "      <td>81.0</td>\n",
       "      <td>NaN</td>\n",
       "      <td>93.0</td>\n",
       "      <td>NaN</td>\n",
       "      <td>77.0</td>\n",
       "      <td>86.0</td>\n",
       "      <td>78.0</td>\n",
       "    </tr>\n",
       "    <tr>\n",
       "      <th>5</th>\n",
       "      <td>Switzerland</td>\n",
       "      <td>CHE</td>\n",
       "      <td>WE/EU</td>\n",
       "      <td>85</td>\n",
       "      <td>3</td>\n",
       "      <td>1.57</td>\n",
       "      <td>7</td>\n",
       "      <td>88</td>\n",
       "      <td>82</td>\n",
       "      <td>NaN</td>\n",
       "      <td>...</td>\n",
       "      <td>90.0</td>\n",
       "      <td>NaN</td>\n",
       "      <td>83</td>\n",
       "      <td>88.0</td>\n",
       "      <td>NaN</td>\n",
       "      <td>85.0</td>\n",
       "      <td>NaN</td>\n",
       "      <td>87.0</td>\n",
       "      <td>NaN</td>\n",
       "      <td>77.0</td>\n",
       "    </tr>\n",
       "    <tr>\n",
       "      <th>6</th>\n",
       "      <td>Norway</td>\n",
       "      <td>NOR</td>\n",
       "      <td>WE/EU</td>\n",
       "      <td>84</td>\n",
       "      <td>7</td>\n",
       "      <td>2.14</td>\n",
       "      <td>8</td>\n",
       "      <td>88</td>\n",
       "      <td>80</td>\n",
       "      <td>NaN</td>\n",
       "      <td>...</td>\n",
       "      <td>90.0</td>\n",
       "      <td>NaN</td>\n",
       "      <td>83</td>\n",
       "      <td>85.0</td>\n",
       "      <td>NaN</td>\n",
       "      <td>93.0</td>\n",
       "      <td>NaN</td>\n",
       "      <td>75.0</td>\n",
       "      <td>86.0</td>\n",
       "      <td>78.0</td>\n",
       "    </tr>\n",
       "    <tr>\n",
       "      <th>7</th>\n",
       "      <td>Netherlands</td>\n",
       "      <td>NLD</td>\n",
       "      <td>WE/EU</td>\n",
       "      <td>82</td>\n",
       "      <td>8</td>\n",
       "      <td>2.30</td>\n",
       "      <td>8</td>\n",
       "      <td>86</td>\n",
       "      <td>78</td>\n",
       "      <td>NaN</td>\n",
       "      <td>...</td>\n",
       "      <td>90.0</td>\n",
       "      <td>NaN</td>\n",
       "      <td>83</td>\n",
       "      <td>89.0</td>\n",
       "      <td>NaN</td>\n",
       "      <td>85.0</td>\n",
       "      <td>NaN</td>\n",
       "      <td>80.0</td>\n",
       "      <td>80.0</td>\n",
       "      <td>77.0</td>\n",
       "    </tr>\n",
       "    <tr>\n",
       "      <th>8</th>\n",
       "      <td>Canada</td>\n",
       "      <td>CAN</td>\n",
       "      <td>AME</td>\n",
       "      <td>81</td>\n",
       "      <td>9</td>\n",
       "      <td>2.16</td>\n",
       "      <td>8</td>\n",
       "      <td>85</td>\n",
       "      <td>77</td>\n",
       "      <td>NaN</td>\n",
       "      <td>...</td>\n",
       "      <td>90.0</td>\n",
       "      <td>NaN</td>\n",
       "      <td>71</td>\n",
       "      <td>86.0</td>\n",
       "      <td>NaN</td>\n",
       "      <td>85.0</td>\n",
       "      <td>NaN</td>\n",
       "      <td>79.0</td>\n",
       "      <td>80.0</td>\n",
       "      <td>75.0</td>\n",
       "    </tr>\n",
       "    <tr>\n",
       "      <th>9</th>\n",
       "      <td>Luxembourg</td>\n",
       "      <td>LUX</td>\n",
       "      <td>WE/EU</td>\n",
       "      <td>81</td>\n",
       "      <td>9</td>\n",
       "      <td>2.32</td>\n",
       "      <td>7</td>\n",
       "      <td>85</td>\n",
       "      <td>77</td>\n",
       "      <td>NaN</td>\n",
       "      <td>...</td>\n",
       "      <td>72.0</td>\n",
       "      <td>NaN</td>\n",
       "      <td>83</td>\n",
       "      <td>86.0</td>\n",
       "      <td>NaN</td>\n",
       "      <td>85.0</td>\n",
       "      <td>NaN</td>\n",
       "      <td>88.0</td>\n",
       "      <td>NaN</td>\n",
       "      <td>74.0</td>\n",
       "    </tr>\n",
       "  </tbody>\n",
       "</table>\n",
       "<p>10 rows × 22 columns</p>\n",
       "</div>"
      ],
      "text/plain": [
       "       Country ISO3 Region  CPI Score 2018  Rank   Standard error  \\\n",
       "0      Denmark  DNK  WE/EU              88      1            2.63   \n",
       "1  New Zealand  NZL     AP              87      2            2.44   \n",
       "2      Finland  FIN  WE/EU              85      3            2.74   \n",
       "3    Singapore  SGP     AP              85      3            1.98   \n",
       "4       Sweden  SWE  WE/EU              85      3            2.02   \n",
       "5  Switzerland  CHE  WE/EU              85      3            1.57   \n",
       "6       Norway  NOR  WE/EU              84      7            2.14   \n",
       "7  Netherlands  NLD  WE/EU              82      8            2.30   \n",
       "8       Canada  CAN    AME              81      9            2.16   \n",
       "9   Luxembourg  LUX  WE/EU              81      9            2.32   \n",
       "\n",
       "   Number of sources  Upper CI  Lower CI   African Development Bank CPIA  ...  \\\n",
       "0                  8        92         84                            NaN  ...   \n",
       "1                  8        91         83                            NaN  ...   \n",
       "2                  8        89         81                            NaN  ...   \n",
       "3                  9        88         82                            NaN  ...   \n",
       "4                  8        88         82                            NaN  ...   \n",
       "5                  7        88         82                            NaN  ...   \n",
       "6                  8        88         80                            NaN  ...   \n",
       "7                  8        86         78                            NaN  ...   \n",
       "8                  8        85         77                            NaN  ...   \n",
       "9                  7        85         77                            NaN  ...   \n",
       "\n",
       "   Economist Intelligence Unit Country Ratings  \\\n",
       "0                                         90.0   \n",
       "1                                         90.0   \n",
       "2                                         72.0   \n",
       "3                                         90.0   \n",
       "4                                         90.0   \n",
       "5                                         90.0   \n",
       "6                                         90.0   \n",
       "7                                         90.0   \n",
       "8                                         90.0   \n",
       "9                                         72.0   \n",
       "\n",
       "   Freedom House Nations in Transit Ratings  \\\n",
       "0                                       NaN   \n",
       "1                                       NaN   \n",
       "2                                       NaN   \n",
       "3                                       NaN   \n",
       "4                                       NaN   \n",
       "5                                       NaN   \n",
       "6                                       NaN   \n",
       "7                                       NaN   \n",
       "8                                       NaN   \n",
       "9                                       NaN   \n",
       "\n",
       "   Global Insight Country Risk Ratings  IMD World Competitiveness Yearbook  \\\n",
       "0                                   83                                97.0   \n",
       "1                                   83                                92.0   \n",
       "2                                   83                                93.0   \n",
       "3                                   83                                90.0   \n",
       "4                                   83                                81.0   \n",
       "5                                   83                                88.0   \n",
       "6                                   83                                85.0   \n",
       "7                                   83                                89.0   \n",
       "8                                   71                                86.0   \n",
       "9                                   83                                86.0   \n",
       "\n",
       "   PERC Asia Risk Guide  PRS International Country Risk Guide  \\\n",
       "0                   NaN                                  92.0   \n",
       "1                   NaN                                  93.0   \n",
       "2                   NaN                                  93.0   \n",
       "3                  89.0                                  85.0   \n",
       "4                   NaN                                  93.0   \n",
       "5                   NaN                                  85.0   \n",
       "6                   NaN                                  93.0   \n",
       "7                   NaN                                  85.0   \n",
       "8                   NaN                                  85.0   \n",
       "9                   NaN                                  85.0   \n",
       "\n",
       "   World Bank CPIA  World Economic Forum EOS  \\\n",
       "0              NaN                      79.0   \n",
       "1              NaN                      83.0   \n",
       "2              NaN                      90.0   \n",
       "3              NaN                      90.0   \n",
       "4              NaN                      77.0   \n",
       "5              NaN                      87.0   \n",
       "6              NaN                      75.0   \n",
       "7              NaN                      80.0   \n",
       "8              NaN                      79.0   \n",
       "9              NaN                      88.0   \n",
       "\n",
       "   World Justice Project Rule of Law Index  Varieties of Democracy Project  \n",
       "0                                     88.0                            78.0  \n",
       "1                                     82.0                            77.0  \n",
       "2                                     86.0                            76.0  \n",
       "3                                     85.0                            78.0  \n",
       "4                                     86.0                            78.0  \n",
       "5                                      NaN                            77.0  \n",
       "6                                     86.0                            78.0  \n",
       "7                                     80.0                            77.0  \n",
       "8                                     80.0                            75.0  \n",
       "9                                      NaN                            74.0  \n",
       "\n",
       "[10 rows x 22 columns]"
      ]
     },
     "execution_count": 29,
     "metadata": {},
     "output_type": "execute_result"
    }
   ],
   "source": [
    "corr.head(10)"
   ]
  },
  {
   "cell_type": "code",
   "execution_count": 30,
   "metadata": {},
   "outputs": [
    {
     "name": "stdout",
     "output_type": "stream",
     "text": [
      "\\\\\\\\ Country ////\n",
      "     180\n",
      "\\\\\\\\ ISO3 ////\n",
      "     180\n",
      "\\\\\\\\ Region ////\n",
      "     180\n",
      "\\\\\\\\ CPI Score 2018 ////\n",
      "     180\n",
      "\\\\\\\\ Rank  ////\n",
      "     180\n",
      "\\\\\\\\ Standard error ////\n",
      "     180\n",
      "\\\\\\\\ Number of sources ////\n",
      "     180\n",
      "\\\\\\\\ Upper CI ////\n",
      "     180\n",
      "\\\\\\\\ Lower CI  ////\n",
      "     180\n",
      "\\\\\\\\ African Development Bank CPIA ////\n",
      "     38\n",
      "\\\\\\\\ Bertelsmann Foundation Sustainable Governance Index ////\n",
      "     41\n",
      "\\\\\\\\ Bertelsmann Foundation Transformation Index ////\n",
      "     129\n",
      "\\\\\\\\ Economist Intelligence Unit Country Ratings ////\n",
      "     131\n",
      "\\\\\\\\ Freedom House Nations in Transit Ratings ////\n",
      "     29\n",
      "\\\\\\\\ Global Insight Country Risk Ratings ////\n",
      "     180\n",
      "\\\\\\\\ IMD World Competitiveness Yearbook ////\n",
      "     63\n",
      "\\\\\\\\ PERC Asia Risk Guide ////\n",
      "     15\n",
      "\\\\\\\\ PRS International Country Risk Guide ////\n",
      "     140\n",
      "\\\\\\\\ World Bank CPIA ////\n",
      "     68\n",
      "\\\\\\\\ World Economic Forum EOS ////\n",
      "     134\n",
      "\\\\\\\\ World Justice Project Rule of Law Index ////\n",
      "     110\n",
      "\\\\\\\\ Varieties of Democracy Project ////\n",
      "     172\n"
     ]
    },
    {
     "data": {
      "text/plain": [
       "\"\\ncolumns of interest:\\nISO3, maybe? Region, definitely. CPI Score and rank, definitely.\\nGlobal Insight Country Risk Ratings is the only other full 180, so we'll grab that for another metric. \\nmore data is better when you're working with 180 observations\\n\""
      ]
     },
     "execution_count": 30,
     "metadata": {},
     "output_type": "execute_result"
    }
   ],
   "source": [
    "\n",
    "for c in corr.columns: # let's look at how many columns have all 180 values\n",
    "    print(\"\\\\\\\\\\\\\\\\ %s ////\" % c)\n",
    "    print('    ', corr[c].value_counts().sum())\n",
    "\n",
    "'''\n",
    "columns of interest:\n",
    "ISO3, maybe? Region, definitely. CPI Score and rank, definitely.\n",
    "Global Insight Country Risk Ratings is the only other full 180, so we'll grab that for another metric. \n",
    "more data is better when you're working with 180 observations\n",
    "'''"
   ]
  },
  {
   "cell_type": "code",
   "execution_count": null,
   "metadata": {},
   "outputs": [],
   "source": []
  },
  {
   "cell_type": "code",
   "execution_count": 91,
   "metadata": {},
   "outputs": [],
   "source": [
    "# corr[['Country','ISO3','Region','CPI Score 2018','Rank']] # errors"
   ]
  },
  {
   "cell_type": "code",
   "execution_count": null,
   "metadata": {},
   "outputs": [],
   "source": []
  },
  {
   "cell_type": "code",
   "execution_count": 31,
   "metadata": {
    "scrolled": true
   },
   "outputs": [
    {
     "data": {
      "text/html": [
       "<div>\n",
       "<style scoped>\n",
       "    .dataframe tbody tr th:only-of-type {\n",
       "        vertical-align: middle;\n",
       "    }\n",
       "\n",
       "    .dataframe tbody tr th {\n",
       "        vertical-align: top;\n",
       "    }\n",
       "\n",
       "    .dataframe thead th {\n",
       "        text-align: right;\n",
       "    }\n",
       "</style>\n",
       "<table border=\"1\" class=\"dataframe\">\n",
       "  <thead>\n",
       "    <tr style=\"text-align: right;\">\n",
       "      <th></th>\n",
       "      <th>Country</th>\n",
       "      <th>ISO3</th>\n",
       "      <th>Region</th>\n",
       "      <th>CPI Score 2018</th>\n",
       "      <th>Rank</th>\n",
       "      <th>Global Insight Country Risk Ratings</th>\n",
       "    </tr>\n",
       "  </thead>\n",
       "  <tbody>\n",
       "    <tr>\n",
       "      <th>0</th>\n",
       "      <td>Denmark</td>\n",
       "      <td>DNK</td>\n",
       "      <td>WE/EU</td>\n",
       "      <td>88</td>\n",
       "      <td>1</td>\n",
       "      <td>83</td>\n",
       "    </tr>\n",
       "    <tr>\n",
       "      <th>1</th>\n",
       "      <td>New Zealand</td>\n",
       "      <td>NZL</td>\n",
       "      <td>AP</td>\n",
       "      <td>87</td>\n",
       "      <td>2</td>\n",
       "      <td>83</td>\n",
       "    </tr>\n",
       "    <tr>\n",
       "      <th>2</th>\n",
       "      <td>Finland</td>\n",
       "      <td>FIN</td>\n",
       "      <td>WE/EU</td>\n",
       "      <td>85</td>\n",
       "      <td>3</td>\n",
       "      <td>83</td>\n",
       "    </tr>\n",
       "    <tr>\n",
       "      <th>3</th>\n",
       "      <td>Singapore</td>\n",
       "      <td>SGP</td>\n",
       "      <td>AP</td>\n",
       "      <td>85</td>\n",
       "      <td>3</td>\n",
       "      <td>83</td>\n",
       "    </tr>\n",
       "    <tr>\n",
       "      <th>4</th>\n",
       "      <td>Sweden</td>\n",
       "      <td>SWE</td>\n",
       "      <td>WE/EU</td>\n",
       "      <td>85</td>\n",
       "      <td>3</td>\n",
       "      <td>83</td>\n",
       "    </tr>\n",
       "  </tbody>\n",
       "</table>\n",
       "</div>"
      ],
      "text/plain": [
       "       Country ISO3 Region  CPI Score 2018  Rank   \\\n",
       "0      Denmark  DNK  WE/EU              88      1   \n",
       "1  New Zealand  NZL     AP              87      2   \n",
       "2      Finland  FIN  WE/EU              85      3   \n",
       "3    Singapore  SGP     AP              85      3   \n",
       "4       Sweden  SWE  WE/EU              85      3   \n",
       "\n",
       "   Global Insight Country Risk Ratings  \n",
       "0                                   83  \n",
       "1                                   83  \n",
       "2                                   83  \n",
       "3                                   83  \n",
       "4                                   83  "
      ]
     },
     "execution_count": 31,
     "metadata": {},
     "output_type": "execute_result"
    }
   ],
   "source": [
    "cols = ['Country','ISO3','Region','CPI Score 2018', 'Rank ', 'Global Insight Country Risk Ratings'] # why do we have to put it in a list and then use the list?\n",
    "# oh well. also, Rank has a trailing space. will rename that.\n",
    "corr[cols].head()"
   ]
  },
  {
   "cell_type": "code",
   "execution_count": 32,
   "metadata": {},
   "outputs": [
    {
     "data": {
      "text/plain": [
       "230"
      ]
     },
     "execution_count": 32,
     "metadata": {},
     "output_type": "execute_result"
    }
   ],
   "source": [
    "len(main)"
   ]
  },
  {
   "cell_type": "code",
   "execution_count": 33,
   "metadata": {},
   "outputs": [
    {
     "data": {
      "text/html": [
       "<div>\n",
       "<style scoped>\n",
       "    .dataframe tbody tr th:only-of-type {\n",
       "        vertical-align: middle;\n",
       "    }\n",
       "\n",
       "    .dataframe tbody tr th {\n",
       "        vertical-align: top;\n",
       "    }\n",
       "\n",
       "    .dataframe thead th {\n",
       "        text-align: right;\n",
       "    }\n",
       "</style>\n",
       "<table border=\"1\" class=\"dataframe\">\n",
       "  <thead>\n",
       "    <tr style=\"text-align: right;\">\n",
       "      <th></th>\n",
       "      <th>Country</th>\n",
       "      <th>ISO3</th>\n",
       "      <th>Region</th>\n",
       "      <th>CPI Score 2018</th>\n",
       "      <th>Rank</th>\n",
       "      <th>Global Insight Country Risk Ratings</th>\n",
       "    </tr>\n",
       "  </thead>\n",
       "  <tbody>\n",
       "    <tr>\n",
       "      <th>0</th>\n",
       "      <td>Denmark</td>\n",
       "      <td>DNK</td>\n",
       "      <td>WE/EU</td>\n",
       "      <td>88</td>\n",
       "      <td>1</td>\n",
       "      <td>83</td>\n",
       "    </tr>\n",
       "    <tr>\n",
       "      <th>1</th>\n",
       "      <td>New Zealand</td>\n",
       "      <td>NZL</td>\n",
       "      <td>AP</td>\n",
       "      <td>87</td>\n",
       "      <td>2</td>\n",
       "      <td>83</td>\n",
       "    </tr>\n",
       "    <tr>\n",
       "      <th>2</th>\n",
       "      <td>Finland</td>\n",
       "      <td>FIN</td>\n",
       "      <td>WE/EU</td>\n",
       "      <td>85</td>\n",
       "      <td>3</td>\n",
       "      <td>83</td>\n",
       "    </tr>\n",
       "    <tr>\n",
       "      <th>3</th>\n",
       "      <td>Singapore</td>\n",
       "      <td>SGP</td>\n",
       "      <td>AP</td>\n",
       "      <td>85</td>\n",
       "      <td>3</td>\n",
       "      <td>83</td>\n",
       "    </tr>\n",
       "    <tr>\n",
       "      <th>4</th>\n",
       "      <td>Sweden</td>\n",
       "      <td>SWE</td>\n",
       "      <td>WE/EU</td>\n",
       "      <td>85</td>\n",
       "      <td>3</td>\n",
       "      <td>83</td>\n",
       "    </tr>\n",
       "  </tbody>\n",
       "</table>\n",
       "</div>"
      ],
      "text/plain": [
       "       Country ISO3 Region  CPI Score 2018  Rank   \\\n",
       "0      Denmark  DNK  WE/EU              88      1   \n",
       "1  New Zealand  NZL     AP              87      2   \n",
       "2      Finland  FIN  WE/EU              85      3   \n",
       "3    Singapore  SGP     AP              85      3   \n",
       "4       Sweden  SWE  WE/EU              85      3   \n",
       "\n",
       "   Global Insight Country Risk Ratings  \n",
       "0                                   83  \n",
       "1                                   83  \n",
       "2                                   83  \n",
       "3                                   83  \n",
       "4                                   83  "
      ]
     },
     "execution_count": 33,
     "metadata": {},
     "output_type": "execute_result"
    }
   ],
   "source": [
    "corruption = corr[cols]\n",
    "corruption.head()"
   ]
  },
  {
   "cell_type": "markdown",
   "metadata": {},
   "source": [
    "## back to merging"
   ]
  },
  {
   "cell_type": "code",
   "execution_count": 34,
   "metadata": {},
   "outputs": [
    {
     "name": "stdout",
     "output_type": "stream",
     "text": [
      "Index(['country', 'ISO3', 'Region', 'CPI Score 2018', 'Rank ',\n",
      "       'Global Insight Country Risk Ratings'],\n",
      "      dtype='object')\n"
     ]
    }
   ],
   "source": [
    "# rename the key column\n",
    "corruption = corruption.rename(columns={'Country':'country'})\n",
    "print(corruption.columns)"
   ]
  },
  {
   "cell_type": "code",
   "execution_count": 35,
   "metadata": {},
   "outputs": [],
   "source": [
    "final = em_gdp_pop.merge(corruption,on='country',how='inner')"
   ]
  },
  {
   "cell_type": "code",
   "execution_count": 36,
   "metadata": {},
   "outputs": [
    {
     "data": {
      "text/plain": [
       "'\\nlength is to be expected. there\\'s 230 \"countries\" in the world,\\nbut less that are what most people think of as \"countries\".\\nthis correlates with magnitude of contribution to global CO2 emissions, so that\\'s fine.\\n'"
      ]
     },
     "execution_count": 36,
     "metadata": {},
     "output_type": "execute_result"
    }
   ],
   "source": [
    "len(final)\n",
    "'''\n",
    "length is to be expected. there's 230 \"countries\" in the world,\n",
    "but less that are what most people think of as \"countries\".\n",
    "this correlates with magnitude of contribution to global CO2 emissions, so that's fine.\n",
    "'''"
   ]
  },
  {
   "cell_type": "code",
   "execution_count": 37,
   "metadata": {},
   "outputs": [
    {
     "data": {
      "text/plain": [
       "168"
      ]
     },
     "execution_count": 37,
     "metadata": {},
     "output_type": "execute_result"
    }
   ],
   "source": [
    "len(final)"
   ]
  },
  {
   "cell_type": "code",
   "execution_count": 38,
   "metadata": {
    "scrolled": true
   },
   "outputs": [
    {
     "data": {
      "text/html": [
       "<div>\n",
       "<style scoped>\n",
       "    .dataframe tbody tr th:only-of-type {\n",
       "        vertical-align: middle;\n",
       "    }\n",
       "\n",
       "    .dataframe tbody tr th {\n",
       "        vertical-align: top;\n",
       "    }\n",
       "\n",
       "    .dataframe thead th {\n",
       "        text-align: right;\n",
       "    }\n",
       "</style>\n",
       "<table border=\"1\" class=\"dataframe\">\n",
       "  <thead>\n",
       "    <tr style=\"text-align: right;\">\n",
       "      <th></th>\n",
       "      <th>country</th>\n",
       "      <th>2015_x</th>\n",
       "      <th>co2_mmt</th>\n",
       "      <th>billions_usd</th>\n",
       "      <th>2015_y</th>\n",
       "      <th>thousand</th>\n",
       "      <th>ISO3</th>\n",
       "      <th>Region</th>\n",
       "      <th>CPI Score 2018</th>\n",
       "      <th>Rank</th>\n",
       "      <th>Global Insight Country Risk Ratings</th>\n",
       "    </tr>\n",
       "  </thead>\n",
       "  <tbody>\n",
       "    <tr>\n",
       "      <th>0</th>\n",
       "      <td>Afghanistan</td>\n",
       "      <td>7.732860644</td>\n",
       "      <td>8.541487914</td>\n",
       "      <td>59.6389</td>\n",
       "      <td>33736.5</td>\n",
       "      <td>34600.2</td>\n",
       "      <td>AFG</td>\n",
       "      <td>AP</td>\n",
       "      <td>16</td>\n",
       "      <td>172</td>\n",
       "      <td>10</td>\n",
       "    </tr>\n",
       "    <tr>\n",
       "      <th>1</th>\n",
       "      <td>Albania</td>\n",
       "      <td>4.100475029</td>\n",
       "      <td>4.221155175</td>\n",
       "      <td>30.8758</td>\n",
       "      <td>2923.35</td>\n",
       "      <td>2927.09</td>\n",
       "      <td>ALB</td>\n",
       "      <td>ECA</td>\n",
       "      <td>36</td>\n",
       "      <td>99</td>\n",
       "      <td>35</td>\n",
       "    </tr>\n",
       "    <tr>\n",
       "      <th>2</th>\n",
       "      <td>Algeria</td>\n",
       "      <td>144.828490377</td>\n",
       "      <td>138.723247027</td>\n",
       "      <td>553.624</td>\n",
       "      <td>39871.5</td>\n",
       "      <td>40563.9</td>\n",
       "      <td>DZA</td>\n",
       "      <td>MENA</td>\n",
       "      <td>35</td>\n",
       "      <td>105</td>\n",
       "      <td>35</td>\n",
       "    </tr>\n",
       "    <tr>\n",
       "      <th>3</th>\n",
       "      <td>Angola</td>\n",
       "      <td>36.182259864</td>\n",
       "      <td>21.417035574</td>\n",
       "      <td>176.813</td>\n",
       "      <td>27859.3</td>\n",
       "      <td>28852.9</td>\n",
       "      <td>AGO</td>\n",
       "      <td>SSA</td>\n",
       "      <td>19</td>\n",
       "      <td>165</td>\n",
       "      <td>22</td>\n",
       "    </tr>\n",
       "    <tr>\n",
       "      <th>4</th>\n",
       "      <td>Argentina</td>\n",
       "      <td>200.161807683</td>\n",
       "      <td>194.099937985</td>\n",
       "      <td>799.476</td>\n",
       "      <td>43471.3</td>\n",
       "      <td>43897.88</td>\n",
       "      <td>ARG</td>\n",
       "      <td>AME</td>\n",
       "      <td>40</td>\n",
       "      <td>85</td>\n",
       "      <td>35</td>\n",
       "    </tr>\n",
       "    <tr>\n",
       "      <th>5</th>\n",
       "      <td>Armenia</td>\n",
       "      <td>5.053134828</td>\n",
       "      <td>5.219801504</td>\n",
       "      <td>23.4467</td>\n",
       "      <td>2916.95</td>\n",
       "      <td>2921.3</td>\n",
       "      <td>ARM</td>\n",
       "      <td>ECA</td>\n",
       "      <td>35</td>\n",
       "      <td>105</td>\n",
       "      <td>35</td>\n",
       "    </tr>\n",
       "    <tr>\n",
       "      <th>6</th>\n",
       "      <td>Australia</td>\n",
       "      <td>403.480935712</td>\n",
       "      <td>411.729208833</td>\n",
       "      <td>1088.903</td>\n",
       "      <td>23862.63</td>\n",
       "      <td>24245.95</td>\n",
       "      <td>AUS</td>\n",
       "      <td>AP</td>\n",
       "      <td>77</td>\n",
       "      <td>13</td>\n",
       "      <td>71</td>\n",
       "    </tr>\n",
       "    <tr>\n",
       "      <th>7</th>\n",
       "      <td>Austria</td>\n",
       "      <td>67.588333839</td>\n",
       "      <td>68.101232581</td>\n",
       "      <td>383.118</td>\n",
       "      <td>8657.14</td>\n",
       "      <td>8745.72</td>\n",
       "      <td>AUT</td>\n",
       "      <td>WE/EU</td>\n",
       "      <td>76</td>\n",
       "      <td>14</td>\n",
       "      <td>71</td>\n",
       "    </tr>\n",
       "    <tr>\n",
       "      <th>8</th>\n",
       "      <td>Azerbaijan</td>\n",
       "      <td>36.537561775</td>\n",
       "      <td>35.117395893</td>\n",
       "      <td>155.209</td>\n",
       "      <td>9617.48</td>\n",
       "      <td>9713.94</td>\n",
       "      <td>AZE</td>\n",
       "      <td>ECA</td>\n",
       "      <td>25</td>\n",
       "      <td>152</td>\n",
       "      <td>35</td>\n",
       "    </tr>\n",
       "    <tr>\n",
       "      <th>9</th>\n",
       "      <td>Bahrain</td>\n",
       "      <td>38.357454232</td>\n",
       "      <td>38.107515472</td>\n",
       "      <td>61.0762</td>\n",
       "      <td>1329.11</td>\n",
       "      <td>1348.41</td>\n",
       "      <td>BHR</td>\n",
       "      <td>MENA</td>\n",
       "      <td>36</td>\n",
       "      <td>99</td>\n",
       "      <td>35</td>\n",
       "    </tr>\n",
       "  </tbody>\n",
       "</table>\n",
       "</div>"
      ],
      "text/plain": [
       "       country         2015_x        co2_mmt billions_usd    2015_y  thousand  \\\n",
       "0  Afghanistan    7.732860644    8.541487914      59.6389   33736.5   34600.2   \n",
       "1      Albania    4.100475029    4.221155175      30.8758   2923.35   2927.09   \n",
       "2      Algeria  144.828490377  138.723247027      553.624   39871.5   40563.9   \n",
       "3       Angola   36.182259864   21.417035574      176.813   27859.3   28852.9   \n",
       "4    Argentina  200.161807683  194.099937985      799.476   43471.3  43897.88   \n",
       "5      Armenia    5.053134828    5.219801504      23.4467   2916.95    2921.3   \n",
       "6    Australia  403.480935712  411.729208833     1088.903  23862.63  24245.95   \n",
       "7      Austria   67.588333839   68.101232581      383.118   8657.14   8745.72   \n",
       "8   Azerbaijan   36.537561775   35.117395893      155.209   9617.48   9713.94   \n",
       "9      Bahrain   38.357454232   38.107515472      61.0762   1329.11   1348.41   \n",
       "\n",
       "  ISO3 Region  CPI Score 2018  Rank   Global Insight Country Risk Ratings  \n",
       "0  AFG     AP              16    172                                   10  \n",
       "1  ALB    ECA              36     99                                   35  \n",
       "2  DZA   MENA              35    105                                   35  \n",
       "3  AGO    SSA              19    165                                   22  \n",
       "4  ARG    AME              40     85                                   35  \n",
       "5  ARM    ECA              35    105                                   35  \n",
       "6  AUS     AP              77     13                                   71  \n",
       "7  AUT  WE/EU              76     14                                   71  \n",
       "8  AZE    ECA              25    152                                   35  \n",
       "9  BHR   MENA              36     99                                   35  "
      ]
     },
     "execution_count": 38,
     "metadata": {},
     "output_type": "execute_result"
    }
   ],
   "source": [
    "final.head(10)\n"
   ]
  },
  {
   "cell_type": "code",
   "execution_count": 39,
   "metadata": {},
   "outputs": [
    {
     "data": {
      "text/plain": [
       "Index(['country', '2015_x', 'co2_mmt', 'billions_usd', '2015_y', 'thousand',\n",
       "       'ISO3', 'Region', 'CPI Score 2018', 'Rank ',\n",
       "       'Global Insight Country Risk Ratings'],\n",
       "      dtype='object')"
      ]
     },
     "execution_count": 39,
     "metadata": {},
     "output_type": "execute_result"
    }
   ],
   "source": [
    "final.columns"
   ]
  },
  {
   "cell_type": "code",
   "execution_count": 40,
   "metadata": {},
   "outputs": [
    {
     "data": {
      "text/plain": [
       "\"\\nlet's do a little more data cleaning before uploading to SQL\\nconvert the units, probably. population should be adjusted to actual number, not in thousands.\\ndo the same with GDP... maybe? trillion is a lot of 0s for readability.\\nlet's just make new columns for now and decide which to use in the model later \\n\""
      ]
     },
     "execution_count": 40,
     "metadata": {},
     "output_type": "execute_result"
    }
   ],
   "source": [
    "main = final # i like calling it main\n",
    "'''\n",
    "let's do a little more data cleaning before uploading to SQL\n",
    "convert the units, probably. population should be adjusted to actual number, not in thousands.\n",
    "do the same with GDP... maybe? trillion is a lot of 0s for readability.\n",
    "let's just make new columns for now and decide which to use in the model later \n",
    "'''"
   ]
  },
  {
   "cell_type": "markdown",
   "metadata": {},
   "source": [
    "## let's clean the population data"
   ]
  },
  {
   "cell_type": "code",
   "execution_count": 41,
   "metadata": {},
   "outputs": [
    {
     "data": {
      "text/plain": [
       "Index(['country', '2015_x', 'co2_mmt', 'billions_usd', '2015_y', 'thousand',\n",
       "       'ISO3', 'Region', 'CPI Score 2018', 'Rank ',\n",
       "       'Global Insight Country Risk Ratings'],\n",
       "      dtype='object')"
      ]
     },
     "execution_count": 41,
     "metadata": {},
     "output_type": "execute_result"
    }
   ],
   "source": [
    "main.columns"
   ]
  },
  {
   "cell_type": "code",
   "execution_count": 153,
   "metadata": {},
   "outputs": [],
   "source": [
    "# convert pop to individuals, mult *1000\n",
    "def convert_pop(row):\n",
    "    return row['thousand'] * 1000"
   ]
  },
  {
   "cell_type": "code",
   "execution_count": 209,
   "metadata": {},
   "outputs": [
    {
     "name": "stdout",
     "output_type": "stream",
     "text": [
      "<class 'pandas.core.frame.DataFrame'>\n",
      "Int64Index: 168 entries, 0 to 167\n",
      "Data columns (total 10 columns):\n",
      "country                                168 non-null object\n",
      "co2_mmt                                168 non-null object\n",
      "billions_usd                           167 non-null object\n",
      "thousand                               167 non-null float64\n",
      "ISO3                                   168 non-null object\n",
      "Region                                 168 non-null object\n",
      "CPI Score 2018                         168 non-null int64\n",
      "Rank                                   168 non-null int64\n",
      "Global Insight Country Risk Ratings    168 non-null int64\n",
      "population                             167 non-null float64\n",
      "dtypes: float64(2), int64(3), object(5)\n",
      "memory usage: 19.4+ KB\n"
     ]
    }
   ],
   "source": [
    "main.info()"
   ]
  },
  {
   "cell_type": "code",
   "execution_count": 190,
   "metadata": {},
   "outputs": [
    {
     "data": {
      "text/html": [
       "<div>\n",
       "<style scoped>\n",
       "    .dataframe tbody tr th:only-of-type {\n",
       "        vertical-align: middle;\n",
       "    }\n",
       "\n",
       "    .dataframe tbody tr th {\n",
       "        vertical-align: top;\n",
       "    }\n",
       "\n",
       "    .dataframe thead th {\n",
       "        text-align: right;\n",
       "    }\n",
       "</style>\n",
       "<table border=\"1\" class=\"dataframe\">\n",
       "  <thead>\n",
       "    <tr style=\"text-align: right;\">\n",
       "      <th></th>\n",
       "      <th>country</th>\n",
       "      <th>co2_mmt</th>\n",
       "      <th>billions_usd</th>\n",
       "      <th>thousand</th>\n",
       "      <th>ISO3</th>\n",
       "      <th>Region</th>\n",
       "      <th>CPI Score 2018</th>\n",
       "      <th>Rank</th>\n",
       "      <th>Global Insight Country Risk Ratings</th>\n",
       "    </tr>\n",
       "  </thead>\n",
       "  <tbody>\n",
       "    <tr>\n",
       "      <th>0</th>\n",
       "      <td>Afghanistan</td>\n",
       "      <td>8.541487914</td>\n",
       "      <td>59.6389</td>\n",
       "      <td>34600.20</td>\n",
       "      <td>AFG</td>\n",
       "      <td>AP</td>\n",
       "      <td>16</td>\n",
       "      <td>172</td>\n",
       "      <td>10</td>\n",
       "    </tr>\n",
       "    <tr>\n",
       "      <th>1</th>\n",
       "      <td>Albania</td>\n",
       "      <td>4.221155175</td>\n",
       "      <td>30.8758</td>\n",
       "      <td>2927.09</td>\n",
       "      <td>ALB</td>\n",
       "      <td>ECA</td>\n",
       "      <td>36</td>\n",
       "      <td>99</td>\n",
       "      <td>35</td>\n",
       "    </tr>\n",
       "    <tr>\n",
       "      <th>2</th>\n",
       "      <td>Algeria</td>\n",
       "      <td>138.723247027</td>\n",
       "      <td>553.624</td>\n",
       "      <td>40563.90</td>\n",
       "      <td>DZA</td>\n",
       "      <td>MENA</td>\n",
       "      <td>35</td>\n",
       "      <td>105</td>\n",
       "      <td>35</td>\n",
       "    </tr>\n",
       "    <tr>\n",
       "      <th>3</th>\n",
       "      <td>Angola</td>\n",
       "      <td>21.417035574</td>\n",
       "      <td>176.813</td>\n",
       "      <td>28852.90</td>\n",
       "      <td>AGO</td>\n",
       "      <td>SSA</td>\n",
       "      <td>19</td>\n",
       "      <td>165</td>\n",
       "      <td>22</td>\n",
       "    </tr>\n",
       "    <tr>\n",
       "      <th>4</th>\n",
       "      <td>Argentina</td>\n",
       "      <td>194.099937985</td>\n",
       "      <td>799.476</td>\n",
       "      <td>43897.88</td>\n",
       "      <td>ARG</td>\n",
       "      <td>AME</td>\n",
       "      <td>40</td>\n",
       "      <td>85</td>\n",
       "      <td>35</td>\n",
       "    </tr>\n",
       "  </tbody>\n",
       "</table>\n",
       "</div>"
      ],
      "text/plain": [
       "       country        co2_mmt billions_usd  thousand ISO3 Region  \\\n",
       "0  Afghanistan    8.541487914      59.6389  34600.20  AFG     AP   \n",
       "1      Albania    4.221155175      30.8758   2927.09  ALB    ECA   \n",
       "2      Algeria  138.723247027      553.624  40563.90  DZA   MENA   \n",
       "3       Angola   21.417035574      176.813  28852.90  AGO    SSA   \n",
       "4    Argentina  194.099937985      799.476  43897.88  ARG    AME   \n",
       "\n",
       "   CPI Score 2018  Rank   Global Insight Country Risk Ratings  \n",
       "0              16    172                                   10  \n",
       "1              36     99                                   35  \n",
       "2              35    105                                   35  \n",
       "3              19    165                                   22  \n",
       "4              40     85                                   35  "
      ]
     },
     "execution_count": 190,
     "metadata": {},
     "output_type": "execute_result"
    }
   ],
   "source": [
    "main.head()"
   ]
  },
  {
   "cell_type": "code",
   "execution_count": 183,
   "metadata": {
    "scrolled": true
   },
   "outputs": [
    {
     "data": {
      "text/plain": [
       "0    34600.20\n",
       "1     2927.09\n",
       "2    40563.90\n",
       "3    28852.90\n",
       "4    43897.88\n",
       "Name: thousand, dtype: float64"
      ]
     },
     "execution_count": 183,
     "metadata": {},
     "output_type": "execute_result"
    }
   ],
   "source": [
    "# oh, they're... they're not floats. 'thousand' is a non-null object. my, my.\n",
    "# let's convert the dtype\n",
    "main['thousand'][:5]"
   ]
  },
  {
   "cell_type": "code",
   "execution_count": 161,
   "metadata": {},
   "outputs": [],
   "source": [
    "def val_float(row):\n",
    "    return float(row['thousand'])"
   ]
  },
  {
   "cell_type": "markdown",
   "metadata": {},
   "source": [
    "## back in time: define one method for each column"
   ]
  },
  {
   "cell_type": "code",
   "execution_count": 42,
   "metadata": {},
   "outputs": [],
   "source": [
    "def fix_pop(row):\n",
    "    return round(float(row.thousand) , 4) * 1000\n",
    "def fix_gdp(row):\n",
    "    return round( float(row.billions_usd), 8) * 1000000000\n",
    "def fix_co2(row):\n",
    "    return round( float(row.co2_mmt), 12) * 1000000\n",
    "def co2_mmt_to_float(row):\n",
    "    return round(float(row.co2_mmt),12)"
   ]
  },
  {
   "cell_type": "code",
   "execution_count": 234,
   "metadata": {},
   "outputs": [],
   "source": [
    "test2 = main"
   ]
  },
  {
   "cell_type": "code",
   "execution_count": 43,
   "metadata": {},
   "outputs": [],
   "source": [
    "main['co2_mmt']= main.apply(lambda row: co2_mmt_to_float(row), axis=1)"
   ]
  },
  {
   "cell_type": "code",
   "execution_count": 44,
   "metadata": {},
   "outputs": [
    {
     "data": {
      "text/html": [
       "<div>\n",
       "<style scoped>\n",
       "    .dataframe tbody tr th:only-of-type {\n",
       "        vertical-align: middle;\n",
       "    }\n",
       "\n",
       "    .dataframe tbody tr th {\n",
       "        vertical-align: top;\n",
       "    }\n",
       "\n",
       "    .dataframe thead th {\n",
       "        text-align: right;\n",
       "    }\n",
       "</style>\n",
       "<table border=\"1\" class=\"dataframe\">\n",
       "  <thead>\n",
       "    <tr style=\"text-align: right;\">\n",
       "      <th></th>\n",
       "      <th>country</th>\n",
       "      <th>2015_x</th>\n",
       "      <th>co2_mmt</th>\n",
       "      <th>billions_usd</th>\n",
       "      <th>2015_y</th>\n",
       "      <th>thousand</th>\n",
       "      <th>ISO3</th>\n",
       "      <th>Region</th>\n",
       "      <th>CPI Score 2018</th>\n",
       "      <th>Rank</th>\n",
       "      <th>Global Insight Country Risk Ratings</th>\n",
       "    </tr>\n",
       "  </thead>\n",
       "  <tbody>\n",
       "    <tr>\n",
       "      <th>0</th>\n",
       "      <td>Afghanistan</td>\n",
       "      <td>7.732860644</td>\n",
       "      <td>8.541488</td>\n",
       "      <td>59.6389</td>\n",
       "      <td>33736.5</td>\n",
       "      <td>34600.2</td>\n",
       "      <td>AFG</td>\n",
       "      <td>AP</td>\n",
       "      <td>16</td>\n",
       "      <td>172</td>\n",
       "      <td>10</td>\n",
       "    </tr>\n",
       "    <tr>\n",
       "      <th>1</th>\n",
       "      <td>Albania</td>\n",
       "      <td>4.100475029</td>\n",
       "      <td>4.221155</td>\n",
       "      <td>30.8758</td>\n",
       "      <td>2923.35</td>\n",
       "      <td>2927.09</td>\n",
       "      <td>ALB</td>\n",
       "      <td>ECA</td>\n",
       "      <td>36</td>\n",
       "      <td>99</td>\n",
       "      <td>35</td>\n",
       "    </tr>\n",
       "    <tr>\n",
       "      <th>2</th>\n",
       "      <td>Algeria</td>\n",
       "      <td>144.828490377</td>\n",
       "      <td>138.723247</td>\n",
       "      <td>553.624</td>\n",
       "      <td>39871.5</td>\n",
       "      <td>40563.9</td>\n",
       "      <td>DZA</td>\n",
       "      <td>MENA</td>\n",
       "      <td>35</td>\n",
       "      <td>105</td>\n",
       "      <td>35</td>\n",
       "    </tr>\n",
       "    <tr>\n",
       "      <th>3</th>\n",
       "      <td>Angola</td>\n",
       "      <td>36.182259864</td>\n",
       "      <td>21.417036</td>\n",
       "      <td>176.813</td>\n",
       "      <td>27859.3</td>\n",
       "      <td>28852.9</td>\n",
       "      <td>AGO</td>\n",
       "      <td>SSA</td>\n",
       "      <td>19</td>\n",
       "      <td>165</td>\n",
       "      <td>22</td>\n",
       "    </tr>\n",
       "    <tr>\n",
       "      <th>4</th>\n",
       "      <td>Argentina</td>\n",
       "      <td>200.161807683</td>\n",
       "      <td>194.099938</td>\n",
       "      <td>799.476</td>\n",
       "      <td>43471.3</td>\n",
       "      <td>43897.88</td>\n",
       "      <td>ARG</td>\n",
       "      <td>AME</td>\n",
       "      <td>40</td>\n",
       "      <td>85</td>\n",
       "      <td>35</td>\n",
       "    </tr>\n",
       "  </tbody>\n",
       "</table>\n",
       "</div>"
      ],
      "text/plain": [
       "       country         2015_x     co2_mmt billions_usd   2015_y  thousand  \\\n",
       "0  Afghanistan    7.732860644    8.541488      59.6389  33736.5   34600.2   \n",
       "1      Albania    4.100475029    4.221155      30.8758  2923.35   2927.09   \n",
       "2      Algeria  144.828490377  138.723247      553.624  39871.5   40563.9   \n",
       "3       Angola   36.182259864   21.417036      176.813  27859.3   28852.9   \n",
       "4    Argentina  200.161807683  194.099938      799.476  43471.3  43897.88   \n",
       "\n",
       "  ISO3 Region  CPI Score 2018  Rank   Global Insight Country Risk Ratings  \n",
       "0  AFG     AP              16    172                                   10  \n",
       "1  ALB    ECA              36     99                                   35  \n",
       "2  DZA   MENA              35    105                                   35  \n",
       "3  AGO    SSA              19    165                                   22  \n",
       "4  ARG    AME              40     85                                   35  "
      ]
     },
     "execution_count": 44,
     "metadata": {},
     "output_type": "execute_result"
    }
   ],
   "source": [
    "main.head()"
   ]
  },
  {
   "cell_type": "code",
   "execution_count": 45,
   "metadata": {},
   "outputs": [],
   "source": [
    "main['population'] = main.apply(lambda row: fix_pop(row), axis=1)\n",
    "# lambda functions really don't play nice unless you define a helper function, it seems\n",
    "main['gdp_usd'] = main.apply(lambda row: fix_gdp(row), axis=1)\n",
    "# CO2 in metric tonnes! don't forget! i didn't want to write that out in the variable name.\n",
    "main['co2_mt'] = main.apply(lambda row: fix_co2(row),axis=1)"
   ]
  },
  {
   "cell_type": "code",
   "execution_count": 46,
   "metadata": {},
   "outputs": [
    {
     "data": {
      "text/html": [
       "<div>\n",
       "<style scoped>\n",
       "    .dataframe tbody tr th:only-of-type {\n",
       "        vertical-align: middle;\n",
       "    }\n",
       "\n",
       "    .dataframe tbody tr th {\n",
       "        vertical-align: top;\n",
       "    }\n",
       "\n",
       "    .dataframe thead th {\n",
       "        text-align: right;\n",
       "    }\n",
       "</style>\n",
       "<table border=\"1\" class=\"dataframe\">\n",
       "  <thead>\n",
       "    <tr style=\"text-align: right;\">\n",
       "      <th></th>\n",
       "      <th>country</th>\n",
       "      <th>2015_x</th>\n",
       "      <th>co2_mmt</th>\n",
       "      <th>billions_usd</th>\n",
       "      <th>2015_y</th>\n",
       "      <th>thousand</th>\n",
       "      <th>ISO3</th>\n",
       "      <th>Region</th>\n",
       "      <th>CPI Score 2018</th>\n",
       "      <th>Rank</th>\n",
       "      <th>Global Insight Country Risk Ratings</th>\n",
       "      <th>population</th>\n",
       "      <th>gdp_usd</th>\n",
       "      <th>co2_mt</th>\n",
       "    </tr>\n",
       "  </thead>\n",
       "  <tbody>\n",
       "    <tr>\n",
       "      <th>0</th>\n",
       "      <td>Afghanistan</td>\n",
       "      <td>7.732860644</td>\n",
       "      <td>8.541488</td>\n",
       "      <td>59.6389</td>\n",
       "      <td>33736.5</td>\n",
       "      <td>34600.2</td>\n",
       "      <td>AFG</td>\n",
       "      <td>AP</td>\n",
       "      <td>16</td>\n",
       "      <td>172</td>\n",
       "      <td>10</td>\n",
       "      <td>34600200.0</td>\n",
       "      <td>5.963890e+10</td>\n",
       "      <td>8.541488e+06</td>\n",
       "    </tr>\n",
       "    <tr>\n",
       "      <th>1</th>\n",
       "      <td>Albania</td>\n",
       "      <td>4.100475029</td>\n",
       "      <td>4.221155</td>\n",
       "      <td>30.8758</td>\n",
       "      <td>2923.35</td>\n",
       "      <td>2927.09</td>\n",
       "      <td>ALB</td>\n",
       "      <td>ECA</td>\n",
       "      <td>36</td>\n",
       "      <td>99</td>\n",
       "      <td>35</td>\n",
       "      <td>2927090.0</td>\n",
       "      <td>3.087580e+10</td>\n",
       "      <td>4.221155e+06</td>\n",
       "    </tr>\n",
       "    <tr>\n",
       "      <th>2</th>\n",
       "      <td>Algeria</td>\n",
       "      <td>144.828490377</td>\n",
       "      <td>138.723247</td>\n",
       "      <td>553.624</td>\n",
       "      <td>39871.5</td>\n",
       "      <td>40563.9</td>\n",
       "      <td>DZA</td>\n",
       "      <td>MENA</td>\n",
       "      <td>35</td>\n",
       "      <td>105</td>\n",
       "      <td>35</td>\n",
       "      <td>40563900.0</td>\n",
       "      <td>5.536240e+11</td>\n",
       "      <td>1.387232e+08</td>\n",
       "    </tr>\n",
       "    <tr>\n",
       "      <th>3</th>\n",
       "      <td>Angola</td>\n",
       "      <td>36.182259864</td>\n",
       "      <td>21.417036</td>\n",
       "      <td>176.813</td>\n",
       "      <td>27859.3</td>\n",
       "      <td>28852.9</td>\n",
       "      <td>AGO</td>\n",
       "      <td>SSA</td>\n",
       "      <td>19</td>\n",
       "      <td>165</td>\n",
       "      <td>22</td>\n",
       "      <td>28852900.0</td>\n",
       "      <td>1.768130e+11</td>\n",
       "      <td>2.141704e+07</td>\n",
       "    </tr>\n",
       "    <tr>\n",
       "      <th>4</th>\n",
       "      <td>Argentina</td>\n",
       "      <td>200.161807683</td>\n",
       "      <td>194.099938</td>\n",
       "      <td>799.476</td>\n",
       "      <td>43471.3</td>\n",
       "      <td>43897.88</td>\n",
       "      <td>ARG</td>\n",
       "      <td>AME</td>\n",
       "      <td>40</td>\n",
       "      <td>85</td>\n",
       "      <td>35</td>\n",
       "      <td>43897880.0</td>\n",
       "      <td>7.994760e+11</td>\n",
       "      <td>1.940999e+08</td>\n",
       "    </tr>\n",
       "  </tbody>\n",
       "</table>\n",
       "</div>"
      ],
      "text/plain": [
       "       country         2015_x     co2_mmt billions_usd   2015_y  thousand  \\\n",
       "0  Afghanistan    7.732860644    8.541488      59.6389  33736.5   34600.2   \n",
       "1      Albania    4.100475029    4.221155      30.8758  2923.35   2927.09   \n",
       "2      Algeria  144.828490377  138.723247      553.624  39871.5   40563.9   \n",
       "3       Angola   36.182259864   21.417036      176.813  27859.3   28852.9   \n",
       "4    Argentina  200.161807683  194.099938      799.476  43471.3  43897.88   \n",
       "\n",
       "  ISO3 Region  CPI Score 2018  Rank   Global Insight Country Risk Ratings  \\\n",
       "0  AFG     AP              16    172                                   10   \n",
       "1  ALB    ECA              36     99                                   35   \n",
       "2  DZA   MENA              35    105                                   35   \n",
       "3  AGO    SSA              19    165                                   22   \n",
       "4  ARG    AME              40     85                                   35   \n",
       "\n",
       "   population       gdp_usd        co2_mt  \n",
       "0  34600200.0  5.963890e+10  8.541488e+06  \n",
       "1   2927090.0  3.087580e+10  4.221155e+06  \n",
       "2  40563900.0  5.536240e+11  1.387232e+08  \n",
       "3  28852900.0  1.768130e+11  2.141704e+07  \n",
       "4  43897880.0  7.994760e+11  1.940999e+08  "
      ]
     },
     "execution_count": 46,
     "metadata": {},
     "output_type": "execute_result"
    }
   ],
   "source": [
    "main.head()"
   ]
  },
  {
   "cell_type": "code",
   "execution_count": null,
   "metadata": {},
   "outputs": [],
   "source": []
  },
  {
   "cell_type": "code",
   "execution_count": 167,
   "metadata": {},
   "outputs": [],
   "source": []
  },
  {
   "cell_type": "code",
   "execution_count": null,
   "metadata": {},
   "outputs": [],
   "source": []
  },
  {
   "cell_type": "code",
   "execution_count": 47,
   "metadata": {},
   "outputs": [
    {
     "data": {
      "text/html": [
       "<div>\n",
       "<style scoped>\n",
       "    .dataframe tbody tr th:only-of-type {\n",
       "        vertical-align: middle;\n",
       "    }\n",
       "\n",
       "    .dataframe tbody tr th {\n",
       "        vertical-align: top;\n",
       "    }\n",
       "\n",
       "    .dataframe thead th {\n",
       "        text-align: right;\n",
       "    }\n",
       "</style>\n",
       "<table border=\"1\" class=\"dataframe\">\n",
       "  <thead>\n",
       "    <tr style=\"text-align: right;\">\n",
       "      <th></th>\n",
       "      <th>country</th>\n",
       "      <th>2015_x</th>\n",
       "      <th>co2_mmt</th>\n",
       "      <th>billions_usd</th>\n",
       "      <th>2015_y</th>\n",
       "      <th>thousand</th>\n",
       "      <th>ISO3</th>\n",
       "      <th>Region</th>\n",
       "      <th>CPI Score 2018</th>\n",
       "      <th>Rank</th>\n",
       "      <th>Global Insight Country Risk Ratings</th>\n",
       "      <th>population</th>\n",
       "      <th>gdp_usd</th>\n",
       "      <th>co2_mt</th>\n",
       "    </tr>\n",
       "  </thead>\n",
       "  <tbody>\n",
       "    <tr>\n",
       "      <th>137</th>\n",
       "      <td>South Sudan</td>\n",
       "      <td>1.090730778</td>\n",
       "      <td>1.222082</td>\n",
       "      <td>NaN</td>\n",
       "      <td>NaN</td>\n",
       "      <td>NaN</td>\n",
       "      <td>SSD</td>\n",
       "      <td>SSA</td>\n",
       "      <td>13</td>\n",
       "      <td>178</td>\n",
       "      <td>10</td>\n",
       "      <td>NaN</td>\n",
       "      <td>NaN</td>\n",
       "      <td>1222081.906</td>\n",
       "    </tr>\n",
       "  </tbody>\n",
       "</table>\n",
       "</div>"
      ],
      "text/plain": [
       "         country       2015_x   co2_mmt billions_usd 2015_y thousand ISO3  \\\n",
       "137  South Sudan  1.090730778  1.222082          NaN    NaN      NaN  SSD   \n",
       "\n",
       "    Region  CPI Score 2018  Rank   Global Insight Country Risk Ratings  \\\n",
       "137    SSA              13    178                                   10   \n",
       "\n",
       "     population  gdp_usd       co2_mt  \n",
       "137         NaN      NaN  1222081.906  "
      ]
     },
     "execution_count": 47,
     "metadata": {},
     "output_type": "execute_result"
    }
   ],
   "source": [
    "# main.apply(lambda row: convert_pop(row), axis=1)\n",
    "# we have nulls in pop. let's check the null pop countries\n",
    "main[main['thousand'].isna()] # it's just south sudan. we don't need that."
   ]
  },
  {
   "cell_type": "code",
   "execution_count": null,
   "metadata": {},
   "outputs": [],
   "source": [
    "main.drop()"
   ]
  },
  {
   "cell_type": "code",
   "execution_count": 220,
   "metadata": {},
   "outputs": [],
   "source": [
    "test = main # save a copy before dropping"
   ]
  },
  {
   "cell_type": "code",
   "execution_count": 48,
   "metadata": {},
   "outputs": [],
   "source": [
    "main = main.drop(main[main.thousand.isna()].index) # why is this .index?\n",
    "# farewell, south sudan"
   ]
  },
  {
   "cell_type": "code",
   "execution_count": 49,
   "metadata": {
    "scrolled": true
   },
   "outputs": [
    {
     "data": {
      "text/plain": [
       "country                                False\n",
       "2015_x                                 False\n",
       "co2_mmt                                False\n",
       "billions_usd                           False\n",
       "2015_y                                 False\n",
       "thousand                               False\n",
       "ISO3                                   False\n",
       "Region                                 False\n",
       "CPI Score 2018                         False\n",
       "Rank                                   False\n",
       "Global Insight Country Risk Ratings    False\n",
       "population                             False\n",
       "gdp_usd                                False\n",
       "co2_mt                                 False\n",
       "dtype: bool"
      ]
     },
     "execution_count": 49,
     "metadata": {},
     "output_type": "execute_result"
    }
   ],
   "source": [
    "main.isna().any()"
   ]
  },
  {
   "cell_type": "code",
   "execution_count": 10,
   "metadata": {
    "scrolled": true
   },
   "outputs": [
    {
     "ename": "NameError",
     "evalue": "name 'main' is not defined",
     "output_type": "error",
     "traceback": [
      "\u001b[0;31m---------------------------------------------------------------------------\u001b[0m",
      "\u001b[0;31mNameError\u001b[0m                                 Traceback (most recent call last)",
      "\u001b[0;32m<ipython-input-10-155ab8ca6e39>\u001b[0m in \u001b[0;36m<module>\u001b[0;34m\u001b[0m\n\u001b[0;32m----> 1\u001b[0;31m \u001b[0mmain\u001b[0m\u001b[0;34m.\u001b[0m\u001b[0mhead\u001b[0m\u001b[0;34m(\u001b[0m\u001b[0;34m)\u001b[0m\u001b[0;34m\u001b[0m\u001b[0;34m\u001b[0m\u001b[0m\n\u001b[0m",
      "\u001b[0;31mNameError\u001b[0m: name 'main' is not defined"
     ]
    }
   ],
   "source": [
    "main.head()"
   ]
  },
  {
   "cell_type": "code",
   "execution_count": 237,
   "metadata": {},
   "outputs": [
    {
     "name": "stdout",
     "output_type": "stream",
     "text": [
      "<class 'pandas.core.frame.DataFrame'>\n",
      "Int64Index: 167 entries, 0 to 167\n",
      "Data columns (total 12 columns):\n",
      "country                                167 non-null object\n",
      "co2_mmt                                167 non-null float64\n",
      "billions_usd                           167 non-null object\n",
      "thousand                               167 non-null float64\n",
      "ISO3                                   167 non-null object\n",
      "Region                                 167 non-null object\n",
      "CPI Score 2018                         167 non-null int64\n",
      "Rank                                   167 non-null int64\n",
      "Global Insight Country Risk Ratings    167 non-null int64\n",
      "population                             167 non-null float64\n",
      "gdp_usd                                167 non-null float64\n",
      "co2_mt                                 167 non-null float64\n",
      "dtypes: float64(5), int64(3), object(4)\n",
      "memory usage: 17.0+ KB\n"
     ]
    }
   ],
   "source": [
    "main.info()"
   ]
  },
  {
   "cell_type": "markdown",
   "metadata": {},
   "source": [
    "# data is clean! time to put into SQL"
   ]
  },
  {
   "cell_type": "code",
   "execution_count": 50,
   "metadata": {},
   "outputs": [],
   "source": [
    "import config # don't hardcode passwords\n",
    "import mysql.connector"
   ]
  },
  {
   "cell_type": "code",
   "execution_count": null,
   "metadata": {},
   "outputs": [],
   "source": []
  },
  {
   "cell_type": "code",
   "execution_count": 93,
   "metadata": {},
   "outputs": [
    {
     "name": "stdout",
     "output_type": "stream",
     "text": [
      "CMySQLCursorBuffered: (Nothing executed yet)\n"
     ]
    }
   ],
   "source": [
    "database_cnx = mysql.connector.connect(\n",
    "    host = config.host,\n",
    "    user = config.user,\n",
    "    passwd = config.passwd,\n",
    "    database = config.DB_NAME\n",
    ")\n",
    "database_cursor = database_cnx.cursor(buffered=True)\n",
    "print(database_cursor)"
   ]
  },
  {
   "cell_type": "code",
   "execution_count": 88,
   "metadata": {},
   "outputs": [],
   "source": [
    "# database_cursor.close()\n",
    "# database_cnx.close()"
   ]
  },
  {
   "cell_type": "code",
   "execution_count": null,
   "metadata": {},
   "outputs": [],
   "source": [
    "'''\n",
    "df.to_sql(con=con, name='table_name_for_df', if_exists='replace', flavor='mysql')\n",
    "\n",
    "'''"
   ]
  },
  {
   "cell_type": "code",
   "execution_count": 52,
   "metadata": {},
   "outputs": [
    {
     "data": {
      "text/plain": [
       "Index(['country', '2015_x', 'co2_mmt', 'billions_usd', '2015_y', 'thousand',\n",
       "       'ISO3', 'Region', 'CPI Score 2018', 'Rank ',\n",
       "       'Global Insight Country Risk Ratings', 'population', 'gdp_usd',\n",
       "       'co2_mt'],\n",
       "      dtype='object')"
      ]
     },
     "execution_count": 52,
     "metadata": {},
     "output_type": "execute_result"
    }
   ],
   "source": [
    "main.columns"
   ]
  },
  {
   "cell_type": "code",
   "execution_count": 54,
   "metadata": {},
   "outputs": [
    {
     "data": {
      "text/html": [
       "<div>\n",
       "<style scoped>\n",
       "    .dataframe tbody tr th:only-of-type {\n",
       "        vertical-align: middle;\n",
       "    }\n",
       "\n",
       "    .dataframe tbody tr th {\n",
       "        vertical-align: top;\n",
       "    }\n",
       "\n",
       "    .dataframe thead th {\n",
       "        text-align: right;\n",
       "    }\n",
       "</style>\n",
       "<table border=\"1\" class=\"dataframe\">\n",
       "  <thead>\n",
       "    <tr style=\"text-align: right;\">\n",
       "      <th></th>\n",
       "      <th>country</th>\n",
       "      <th>2015_x</th>\n",
       "      <th>co2_mmt</th>\n",
       "      <th>billions_usd</th>\n",
       "      <th>2015_y</th>\n",
       "      <th>thousand</th>\n",
       "      <th>ISO3</th>\n",
       "      <th>Region</th>\n",
       "      <th>CPI Score 2018</th>\n",
       "      <th>Rank</th>\n",
       "      <th>Global Insight Country Risk Ratings</th>\n",
       "      <th>population</th>\n",
       "      <th>gdp_usd</th>\n",
       "      <th>co2_mt</th>\n",
       "    </tr>\n",
       "  </thead>\n",
       "  <tbody>\n",
       "    <tr>\n",
       "      <th>0</th>\n",
       "      <td>Afghanistan</td>\n",
       "      <td>7.732860644</td>\n",
       "      <td>8.541488</td>\n",
       "      <td>59.6389</td>\n",
       "      <td>33736.5</td>\n",
       "      <td>34600.2</td>\n",
       "      <td>AFG</td>\n",
       "      <td>AP</td>\n",
       "      <td>16</td>\n",
       "      <td>172</td>\n",
       "      <td>10</td>\n",
       "      <td>34600200.0</td>\n",
       "      <td>5.963890e+10</td>\n",
       "      <td>8.541488e+06</td>\n",
       "    </tr>\n",
       "    <tr>\n",
       "      <th>1</th>\n",
       "      <td>Albania</td>\n",
       "      <td>4.100475029</td>\n",
       "      <td>4.221155</td>\n",
       "      <td>30.8758</td>\n",
       "      <td>2923.35</td>\n",
       "      <td>2927.09</td>\n",
       "      <td>ALB</td>\n",
       "      <td>ECA</td>\n",
       "      <td>36</td>\n",
       "      <td>99</td>\n",
       "      <td>35</td>\n",
       "      <td>2927090.0</td>\n",
       "      <td>3.087580e+10</td>\n",
       "      <td>4.221155e+06</td>\n",
       "    </tr>\n",
       "    <tr>\n",
       "      <th>2</th>\n",
       "      <td>Algeria</td>\n",
       "      <td>144.828490377</td>\n",
       "      <td>138.723247</td>\n",
       "      <td>553.624</td>\n",
       "      <td>39871.5</td>\n",
       "      <td>40563.9</td>\n",
       "      <td>DZA</td>\n",
       "      <td>MENA</td>\n",
       "      <td>35</td>\n",
       "      <td>105</td>\n",
       "      <td>35</td>\n",
       "      <td>40563900.0</td>\n",
       "      <td>5.536240e+11</td>\n",
       "      <td>1.387232e+08</td>\n",
       "    </tr>\n",
       "    <tr>\n",
       "      <th>3</th>\n",
       "      <td>Angola</td>\n",
       "      <td>36.182259864</td>\n",
       "      <td>21.417036</td>\n",
       "      <td>176.813</td>\n",
       "      <td>27859.3</td>\n",
       "      <td>28852.9</td>\n",
       "      <td>AGO</td>\n",
       "      <td>SSA</td>\n",
       "      <td>19</td>\n",
       "      <td>165</td>\n",
       "      <td>22</td>\n",
       "      <td>28852900.0</td>\n",
       "      <td>1.768130e+11</td>\n",
       "      <td>2.141704e+07</td>\n",
       "    </tr>\n",
       "    <tr>\n",
       "      <th>4</th>\n",
       "      <td>Argentina</td>\n",
       "      <td>200.161807683</td>\n",
       "      <td>194.099938</td>\n",
       "      <td>799.476</td>\n",
       "      <td>43471.3</td>\n",
       "      <td>43897.88</td>\n",
       "      <td>ARG</td>\n",
       "      <td>AME</td>\n",
       "      <td>40</td>\n",
       "      <td>85</td>\n",
       "      <td>35</td>\n",
       "      <td>43897880.0</td>\n",
       "      <td>7.994760e+11</td>\n",
       "      <td>1.940999e+08</td>\n",
       "    </tr>\n",
       "  </tbody>\n",
       "</table>\n",
       "</div>"
      ],
      "text/plain": [
       "       country         2015_x     co2_mmt billions_usd   2015_y  thousand  \\\n",
       "0  Afghanistan    7.732860644    8.541488      59.6389  33736.5   34600.2   \n",
       "1      Albania    4.100475029    4.221155      30.8758  2923.35   2927.09   \n",
       "2      Algeria  144.828490377  138.723247      553.624  39871.5   40563.9   \n",
       "3       Angola   36.182259864   21.417036      176.813  27859.3   28852.9   \n",
       "4    Argentina  200.161807683  194.099938      799.476  43471.3  43897.88   \n",
       "\n",
       "  ISO3 Region  CPI Score 2018  Rank   Global Insight Country Risk Ratings  \\\n",
       "0  AFG     AP              16    172                                   10   \n",
       "1  ALB    ECA              36     99                                   35   \n",
       "2  DZA   MENA              35    105                                   35   \n",
       "3  AGO    SSA              19    165                                   22   \n",
       "4  ARG    AME              40     85                                   35   \n",
       "\n",
       "   population       gdp_usd        co2_mt  \n",
       "0  34600200.0  5.963890e+10  8.541488e+06  \n",
       "1   2927090.0  3.087580e+10  4.221155e+06  \n",
       "2  40563900.0  5.536240e+11  1.387232e+08  \n",
       "3  28852900.0  1.768130e+11  2.141704e+07  \n",
       "4  43897880.0  7.994760e+11  1.940999e+08  "
      ]
     },
     "execution_count": 54,
     "metadata": {},
     "output_type": "execute_result"
    }
   ],
   "source": [
    "main.head(5)"
   ]
  },
  {
   "cell_type": "code",
   "execution_count": 61,
   "metadata": {},
   "outputs": [],
   "source": [
    "def tuplify(df):\n",
    "    tup_list = []\n",
    "    \n",
    "    for index, row in df.iterrows():\n",
    "        tup = (row['country'], \n",
    "               row['gdp_usd'], \n",
    "               row['population'], \n",
    "               row['CPI Score 2018'], \n",
    "               row['Rank '],\n",
    "               row['Global Insight Country Risk Ratings'],\n",
    "               row['co2_mmt']\n",
    "              ) # tuple length 7\n",
    "        tup_list.append(tup)\n",
    "    return tup_list\n"
   ]
  },
  {
   "cell_type": "code",
   "execution_count": 62,
   "metadata": {},
   "outputs": [],
   "source": [
    "tuptest = tuplify(main)"
   ]
  },
  {
   "cell_type": "code",
   "execution_count": 64,
   "metadata": {},
   "outputs": [
    {
     "data": {
      "text/plain": [
       "[('Afghanistan', 59638900000.0, 34600200.0, 16, 172, 10, 8.541487914),\n",
       " ('Albania', 30875800000.0, 2927090.0, 36, 99, 35, 4.221155175),\n",
       " ('Algeria', 553624000000.0, 40563900.0, 35, 105, 35, 138.723247027),\n",
       " ('Angola', 176813000000.0, 28852900.0, 19, 165, 22, 21.417035574),\n",
       " ('Argentina', 799476000000.0, 43897880.0, 40, 85, 35, 194.099937985),\n",
       " ('Armenia', 23446700000.0, 2921300.0, 35, 105, 35, 5.219801504),\n",
       " ('Australia', 1088903000000.0, 24245950.0, 77, 13, 71, 411.729208833),\n",
       " ('Austria', 383118000000.0, 8745720.0, 76, 14, 71, 68.101232581),\n",
       " ('Azerbaijan', 155209000000.0, 9713940.0, 25, 152, 35, 35.117395893),\n",
       " ('Bahrain', 61076200000.0, 1348410.0, 36, 99, 35, 38.107515472)]"
      ]
     },
     "execution_count": 64,
     "metadata": {},
     "output_type": "execute_result"
    }
   ],
   "source": [
    "tuptest[:10]"
   ]
  },
  {
   "cell_type": "code",
   "execution_count": 89,
   "metadata": {},
   "outputs": [
    {
     "data": {
      "text/plain": [
       "[('Afghanistan', 59638900000.0, 34600200.0, 16, 172, 10, 8.541487914),\n",
       " ('Albania', 30875800000.0, 2927090.0, 36, 99, 35, 4.221155175),\n",
       " ('Algeria', 553624000000.0, 40563900.0, 35, 105, 35, 138.723247027),\n",
       " ('Angola', 176813000000.0, 28852900.0, 19, 165, 22, 21.417035574),\n",
       " ('Argentina', 799476000000.0, 43897880.0, 40, 85, 35, 194.099937985),\n",
       " ('Armenia', 23446700000.0, 2921300.0, 35, 105, 35, 5.219801504),\n",
       " ('Australia', 1088903000000.0, 24245950.0, 77, 13, 71, 411.729208833),\n",
       " ('Austria', 383118000000.0, 8745720.0, 76, 14, 71, 68.101232581),\n",
       " ('Azerbaijan', 155209000000.0, 9713940.0, 25, 152, 35, 35.117395893),\n",
       " ('Bahrain', 61076200000.0, 1348410.0, 36, 99, 35, 38.107515472),\n",
       " ('Bangladesh', 569985000000.0, 162916000.0, 26, 149, 22, 79.204847853),\n",
       " ('Barbados', 4731870000.0, 284887.0, 68, 25, 71, 1.756547847),\n",
       " ('Belarus', 155762000000.0, 9471700.0, 44, 70, 47, 55.443035917),\n",
       " ('Belgium', 464710000000.0, 11336500.0, 75, 17, 71, 137.63927863),\n",
       " ('Benin', 21403300000.0, 10885400.0, 40, 85, 35, 5.435664469),\n",
       " ('Bhutan', 5877710000.0, 796958.0, 68, 25, 71, 0.580460273),\n",
       " ('Bolivia', 71531400000.0, 10888600.0, 29, 132, 35, 17.994768699),\n",
       " ('Bosnia and Herzegovina',\n",
       "  39560500000.0,\n",
       "  3528410.0,\n",
       "  38,\n",
       "  89,\n",
       "  35,\n",
       "  18.566236465),\n",
       " ('Botswana', 33933799999.999996, 2250510.0, 61, 34, 59, 5.783427676),\n",
       " ('Brazil', 2870234000000.0, 207851500.0, 35, 105, 35, 492.541110608),\n",
       " ('Bulgaria', 132050800000.00002, 7121330.0, 42, 77, 35, 42.888054364),\n",
       " ('Burkina Faso', 29994700000.0, 18669200.0, 41, 78, 47, 3.41814636),\n",
       " ('Burundi', 7130170000.0, 10547300.0, 17, 170, 22, 0.217061455),\n",
       " ('Cambodia', 53465400000.0, 15757200.0, 20, 161, 22, 9.649779581),\n",
       " ('Cameroon', 76987300000.0, 23459200.0, 25, 152, 35, 7.111220607),\n",
       " ('Canada', 1521620000000.0, 36051750.0, 81, 9, 71, 633.395053164),\n",
       " ('Central African Republic',\n",
       "  2824990000.0,\n",
       "  4621060.0,\n",
       "  26,\n",
       "  149,\n",
       "  22,\n",
       "  0.414600677),\n",
       " ('Chad', 26306200000.0, 14464500.0, 19, 165, 22, 0.342686906),\n",
       " ('Chile', 396449300000.0, 17928050.0, 67, 27, 59, 83.509779709),\n",
       " ('China', 19400000000000.0, 1404132000.0, 39, 87, 47, 10592.824304791),\n",
       " ('Colombia', 623204000000.0, 48627000.0, 36, 99, 47, 87.705481916),\n",
       " ('Comoros', 1149000000.0, 795859.0, 27, 144, 47, 0.193975049),\n",
       " ('Costa Rica', 72358900000.0, 4855120.0, 56, 48, 47, 7.650266452),\n",
       " ('Croatia', 88538700000.0, 4167885.0, 48, 60, 47, 17.061577051),\n",
       " ('Cuba', 130110999999.99998, 11468200.0, 47, 61, 47, 24.683271777),\n",
       " ('Cyprus', 27741900000.0, 854802.0, 59, 38, 59, 8.146004013),\n",
       " ('Czech Republic', 321115000000.0, 10569450.0, 59, 38, 71, 106.274711249),\n",
       " ('Denmark', 253474500000.0, 5733200.0, 88, 1, 83, 37.763337624),\n",
       " ('Djibouti', 3037470000.0, 941911.0, 31, 124, 47, 0.951511327),\n",
       " ('Dominica', 734646000.0, 73543.0, 57, 45, 59, 0.199179831),\n",
       " ('Dominican Republic', 147299000000.0, 10644400.0, 30, 129, 35, 23.322056815),\n",
       " ('Ecuador', 167902000000.0, 16382600.0, 34, 114, 22, 36.820012224),\n",
       " ('Egypt', 1030010000000.0, 95610800.0, 35, 105, 35, 229.443277691),\n",
       " ('El Salvador', 44525200000.0, 6345790.0, 35, 105, 35, 7.317998832),\n",
       " ('Equatorial Guinea', 28910200000.0, 1221570.0, 16, 172, 10, 3.063546476),\n",
       " ('Eritrea', 8343159999.999999, 4964020.0, 24, 157, 35, 0.493125459),\n",
       " ('Estonia', 35961100000.0, 1315640.0, 73, 18, 71, 5.269093721),\n",
       " ('Ethiopia', 163867000000.0, 102450000.0, 34, 114, 35, 12.025834203),\n",
       " ('Finland', 213514400000.0, 5497303.0, 85, 3, 83, 46.606433768),\n",
       " ('France', 2487650000000.0, 66892100.00000001, 72, 21, 71, 354.098788532),\n",
       " ('Gabon', 32497900000.0, 1974400.0, 31, 124, 35, 3.980412397),\n",
       " ('Georgia', 35487600000.0, 3940930.0, 58, 41, 47, 10.353839745),\n",
       " ('Germany', 3649314000000.0, 82391950.0, 80, 11, 83, 826.40216239),\n",
       " ('Ghana', 106867000000.0, 28213000.0, 41, 78, 35, 13.435526878),\n",
       " ('Greece', 262439900000.00003, 10774050.0, 45, 67, 47, 68.23888029),\n",
       " ('Grenada', 1357040000.0, 107320.0, 52, 53, 47, 0.284113686),\n",
       " ('Guatemala', 119582000000.0, 16584099.999999998, 27, 144, 22, 16.725585241),\n",
       " ('Guinea', 23002100000.0, 12423400.0, 28, 138, 35, 2.797768695),\n",
       " ('Guyana', 5494550000.0, 772968.0, 37, 93, 35, 2.134799821),\n",
       " ('Haiti', 17572800000.0, 10843100.0, 20, 161, 22, 3.41103099),\n",
       " ('Honduras', 39336500000.0, 9112520.0, 29, 132, 22, 9.289176544),\n",
       " ('Hong Kong', 391375800000.0, 7309973.0, 76, 14, 83, 98.323982108),\n",
       " ('Hungary', 248449900000.0, 9809904.0, 46, 64, 59, 49.489057608),\n",
       " ('Iceland', 15568300000.0, 332840.0, 76, 14, 83, 3.232656815),\n",
       " ('India', 7962030000000.0, 1326108000.0, 41, 78, 47, 2154.761606057),\n",
       " ('Indonesia', 2754647000000.0, 261461000.0, 38, 89, 47, 513.149340009),\n",
       " ('Iran', 1441910000000.0, 80205800.0, 28, 138, 35, 638.538597076),\n",
       " ('Iraq', 693340000000.0, 37202600.0, 18, 168, 10, 120.477589725),\n",
       " ('Ireland', 293455200000.0, 4762595.0, 73, 18, 71, 37.509782543),\n",
       " ('Israel', 275424000000.0, 8194350.0, 61, 34, 59, 70.44220342),\n",
       " ('Italy', 2039774000000.0, 60617980.0, 52, 53, 59, 356.121837269),\n",
       " ('Jamaica', 23165100000.0, 2880180.0, 44, 70, 35, 8.765132358),\n",
       " ('Japan', 4740050000000.0, 127716000.0, 73, 18, 71, 1202.518879939),\n",
       " ('Jordan', 77707300000.0, 9369170.0, 49, 58, 35, 24.532098903),\n",
       " ('Kazakhstan', 408057000000.0, 17955200.0, 31, 124, 35, 279.282873451),\n",
       " ('Kenya', 138918000000.0, 48487400.0, 27, 144, 22, 17.886577262),\n",
       " ('Kosovo', 16821800000.0, 1999790.0, 37, 93, 35, 8.938085521),\n",
       " ('Kuwait', 268528000000.00003, 4009210.0, 41, 78, 35, 98.364696299),\n",
       " ('Kyrgyzstan', 19833400000.0, 5952670.0, 29, 132, 22, 9.66658844),\n",
       " ('Laos', 41201300000.0, 6764140.0, 29, 132, 35, 9.397113068),\n",
       " ('Latvia', 45772200000.0, 1950120.0, 58, 41, 59, 8.417974012),\n",
       " ('Lebanon', 78065500000.0, 5885140.0, 28, 138, 22, 23.260003236),\n",
       " ('Lesotho', 6204920000.0, 2204160.0, 41, 78, 59, 0.712526059),\n",
       " ('Liberia', 5308960000.0, 4620470.0, 32, 120, 22, 1.164526405),\n",
       " ('Libya', 53032400000.0, 6320400.0, 17, 170, 10, 42.640300803),\n",
       " ('Lithuania', 78404100000.0, 2847900.0, 59, 38, 59, 13.969520031),\n",
       " ('Luxembourg', 53497500000.0, 580210.0, 81, 9, 83, 10.19624216),\n",
       " ('Macedonia', 27605300000.0, 2081050.0000000002, 37, 93, 35, 6.895169399),\n",
       " ('Madagascar', 33506800000.0, 24925400.0, 25, 152, 35, 3.840009212),\n",
       " ('Malawi', 19205900000.0, 18115600.0, 32, 120, 47, 1.054027657),\n",
       " ('Malaysia', 784953000000.0, 31237900.0, 47, 61, 47, 215.715583328),\n",
       " ('Maldives', 5970570000.0, 364000.0, 31, 124, 35, 1.651954283),\n",
       " ('Mali', 44354500000.0, 18031200.0, 32, 120, 35, 3.387335965),\n",
       " ('Malta', 16363000000.0, 460297.0, 54, 51, 59, 7.821644664),\n",
       " ('Mauritania', 15050300000.0, 4302630.0, 27, 144, 35, 2.619433268),\n",
       " ('Mauritius', 24246200000.0, 1262390.0, 51, 56, 59, 6.027392653),\n",
       " ('Mexico', 2145034999999.9998, 127740000.0, 28, 138, 22, 452.580730959),\n",
       " ('Moldova', 20239900000.0, 3553100.0, 33, 117, 47, 7.607940909),\n",
       " ('Mongolia', 33944699999.999996, 3023380.0, 37, 93, 47, 16.779087674),\n",
       " ('Montenegro', 9459120000.0, 628422.0, 45, 67, 47, 2.217694446),\n",
       " ('Morocco', 255334000000.0, 35256800.0, 43, 73, 35, 52.882469182),\n",
       " ('Mozambique', 31836300000.0, 28870400.0, 23, 158, 22, 9.664523806),\n",
       " ('Myanmar', 274870000000.0, 52884600.0, 29, 132, 22, 27.006455292),\n",
       " ('Namibia', 23848200000.0, 2479760.0, 53, 52, 59, 3.854314456),\n",
       " ('Nepal', 66244500000.0, 28977100.0, 31, 124, 35, 6.182924994),\n",
       " ('Netherlands', 800064000000.0, 17043100.0, 82, 8, 83, 248.652380687),\n",
       " ('New Zealand', 163069000000.0, 4659575.0, 87, 2, 83, 37.511750471),\n",
       " ('Nicaragua', 30907500000.0, 6148940.0, 25, 152, 22, 5.397170442),\n",
       " ('Niger', 18585200000.0, 20732500.0, 34, 114, 35, 2.248720223),\n",
       " ('Nigeria', 990122000000.0, 186176000.0, 27, 144, 22, 97.103695823),\n",
       " ('Norway', 332519900000.0, 5240470.0, 84, 7, 83, 43.238736148),\n",
       " ('Oman', 166236000000.0, 4389790.0, 52, 53, 47, 68.45755233),\n",
       " ('Pakistan', 896298000000.0, 193177000.0, 33, 117, 35, 175.70651572),\n",
       " ('Panama', 83118400000.0, 4033260.0, 37, 93, 35, 25.458451562),\n",
       " ('Papua New Guinea', 25287200000.0, 8087000.0, 28, 138, 22, 6.097005088),\n",
       " ('Paraguay', 75552100000.0, 6724560.0, 29, 132, 22, 7.20870691),\n",
       " ('Peru', 373980000000.0, 31763800.0, 35, 105, 35, 55.017240495),\n",
       " ('Philippines', 732704000000.0, 103514500.0, 36, 99, 35, 110.741520498),\n",
       " ('Poland', 957418000000.0, 37970800.0, 60, 36, 59, 307.402241626),\n",
       " ('Portugal', 273194300000.0, 10321500.0, 64, 30, 59, 55.198158034),\n",
       " ('Qatar', 297335000000.0, 2543590.0, 62, 33, 47, 102.483600023),\n",
       " ('Romania', 405076700000.0, 19687800.0, 47, 61, 47, 71.676642042),\n",
       " ('Russia', 3491709000000.0, 143942000.0, 28, 138, 22, 1766.611721141),\n",
       " ('Rwanda', 20705200000.0, 11921100.0, 56, 48, 59, 0.987122598),\n",
       " ('Saint Lucia', 2094850000.0, 178005.0, 55, 50, 47, 0.438496858),\n",
       " ('Sao Tome and Principe', 587902000.0, 200045.0, 46, 64, 47, 0.148414412),\n",
       " ('Saudi Arabia', 1593750000000.0, 32187600.0, 49, 58, 22, 656.578258322),\n",
       " ('Senegal', 44811700000.0, 15421600.0, 45, 67, 47, 8.603164366),\n",
       " ('Serbia', 95269800000.0, 7058320.0, 39, 87, 35, 47.510254604),\n",
       " ('Seychelles', 2259570000.0, 94216.0, 66, 28, 71, 1.152034507),\n",
       " ('Sierra Leone', 9885780000.0, 7399010.0, 30, 129, 35, 0.986173422),\n",
       " ('Singapore', 458821000000.0, 5607282.0, 85, 3, 83, 255.184950075),\n",
       " ('Slovakia', 154954900000.0, 5431933.0, 50, 57, 59, 33.500725783),\n",
       " ('Slovenia', 60470400000.0, 2065900.0, 60, 36, 71, 13.594457139),\n",
       " ('Solomon Islands', 1043290000.0, 599445.0, 44, 70, 59, 0.233857761),\n",
       " ('Somalia', 6877670000.0, 14347500.0, 10, 180, 22, 0.850896626),\n",
       " ('South Africa', 672566000000.0, 56088650.0, 43, 73, 47, 510.751502614),\n",
       " ('Spain', 1537468000000.0, 46495050.0, 58, 41, 47, 286.124055964),\n",
       " ('Sri Lanka', 237770000000.0, 20788000.0, 38, 89, 35, 24.262210492),\n",
       " ('Sudan', 198875000000.0, 39626500.0, 16, 172, 22, 18.948834793),\n",
       " ('Suriname', 7592770000.0, 558117.0, 43, 73, 35, 2.058325291),\n",
       " ('Swaziland', 10347200000.0, 1343070.0, 38, 89, 35, 1.089523758),\n",
       " ('Sweden', 451782000000.0, 9941100.0, 85, 3, 83, 53.407685513),\n",
       " ('Switzerland', 457510000000.0, 8419550.0, 85, 3, 83, 39.75981297),\n",
       " ('Syria', 68489000000.00001, 18772900.0, 13, 178, 10, 28.227673558),\n",
       " ('Taiwan', 1029931000000.0, 23522000.0, 63, 31, 71, 326.276700357),\n",
       " ('Tajikistan', 22544700000.0, 8733970.0, 25, 152, 22, 5.440524346),\n",
       " ('Tanzania', 136526000000.00002, 55658900.0, 36, 99, 35, 14.473595189),\n",
       " ('Thailand', 1060967000000.0001, 68882500.0, 36, 99, 35, 342.33855183),\n",
       " ('Timor-Leste', 6861370000.0, 1269060.0, 35, 105, 35, 0.531910064),\n",
       " ('Togo', 11054100000.0, 7610300.0, 30, 129, 35, 2.58506354),\n",
       " ('Trinidad and Tobago', 41232700000.0, 1363620.0, 41, 78, 35, 49.319426481),\n",
       " ('Tunisia', 120206000000.0, 11399600.0, 43, 73, 47, 22.869615584),\n",
       " ('Turkey', 1815585000000.0, 79615100.0, 41, 78, 47, 366.083909186),\n",
       " ('Turkmenistan', 86782000000.0, 5658470.0, 20, 161, 22, 98.959239476),\n",
       " ('Uganda', 75998600000.0, 41553400.0, 26, 149, 22, 4.710814265),\n",
       " ('Ukraine', 320937000000.0, 42800000.0, 32, 120, 35, 223.956971721),\n",
       " ('United Arab Emirates',\n",
       "  614766000000.0,\n",
       "  9286080.0,\n",
       "  70,\n",
       "  23,\n",
       "  47,\n",
       "  288.875809304),\n",
       " ('United Kingdom',\n",
       "  2561884000000.0,\n",
       "  65687880.00000001,\n",
       "  80,\n",
       "  11,\n",
       "  71,\n",
       "  480.680495215),\n",
       " ('Uruguay', 67787000000.00001, 3444120.0, 70, 23, 59, 7.519395113),\n",
       " ('Uzbekistan', 188391000000.0, 31428000.0, 23, 158, 22, 92.948991239),\n",
       " ('Vanuatu', 672159000.0, 270469.0, 46, 64, 47, 0.164924114),\n",
       " ('Venezuela', 428020000000.0, 31568170.0, 18, 168, 10, 130.15461283),\n",
       " ('Vietnam', 540764000000.0, 94529300.0, 33, 117, 35, 218.766587958),\n",
       " ('Yemen', 50849800000.0, 27582000.0, 14, 176, 10, 8.887855262),\n",
       " ('Zambia', 59353400000.0, 16616300.0, 35, 105, 35, 3.622226086),\n",
       " ('Zimbabwe', 29444000000.0, 16158000.0, 22, 160, 22, 10.480809616)]"
      ]
     },
     "execution_count": 89,
     "metadata": {},
     "output_type": "execute_result"
    }
   ],
   "source": [
    "tuptest"
   ]
  },
  {
   "cell_type": "code",
   "execution_count": null,
   "metadata": {},
   "outputs": [],
   "source": [
    "TABLES['employees'] = (\n",
    "    \"CREATE TABLE employees (\"\n",
    "    \"  emp_no int(11) NOT NULL AUTO_INCREMENT,\"\n",
    "    \"  birth_date date NOT NULL,\"\n",
    "    \"  first_name varchar(14) NOT NULL,\"\n",
    "    \"  last_name varchar(16) NOT NULL,\"\n",
    "    \"  gender enum('M','F') NOT NULL,\"\n",
    "    \"  hire_date date NOT NULL,\"\n",
    "    \"  PRIMARY KEY (emp_no)\"\n",
    "    \") ENGINE=InnoDB\")"
   ]
  },
  {
   "cell_type": "code",
   "execution_count": 96,
   "metadata": {},
   "outputs": [],
   "source": [
    "TABLES = {} # some old code\n",
    "TABLES['final'] = (\n",
    "    \"CREATE TABLE final (\"\n",
    "    \"  country varchar(100) NOT NULL,\"\n",
    "    \"  gdp_usd FLOAT NOT NULL,\"\n",
    "    \"  population FLOAT NOT NULL,\"\n",
    "    \"  CPI int(4) NOT NULL,\"\n",
    "    \"  rank int(4) NOT NULL,\"\n",
    "    \"  GI_risk int(4) NOT NULL,\"\n",
    "    \"  co2_mmt FLOAT NOT NULL,\"\n",
    "    \"  PRIMARY KEY ( country)\"\n",
    "    \") ENGINE=InnoDB\")\n",
    "\n"
   ]
  },
  {
   "cell_type": "code",
   "execution_count": 81,
   "metadata": {},
   "outputs": [],
   "source": [
    "/// tuple\n",
    "    for index, row in df.iterrows():\n",
    "        tup = (row['country'], \n",
    "               row['gdp_usd'], \n",
    "               row['population'], \n",
    "               row['CPI Score 2018'], \n",
    "               row['Rank '],\n",
    "               row['Global Insight Country Risk Ratings'],\n",
    "               row['co2_mmt']\n",
    "///"
   ]
  },
  {
   "cell_type": "code",
   "execution_count": 99,
   "metadata": {},
   "outputs": [
    {
     "name": "stdout",
     "output_type": "stream",
     "text": [
      "yeah\n"
     ]
    }
   ],
   "source": [
    "# data = [\n",
    "#   ('Jane', date(2005, 2, 12)),\n",
    "#   ('Joe', date(2006, 5, 23)),\n",
    "#   ('John', date(2010, 10, 3)),\n",
    "# ]\n",
    "data = tuptest\n",
    "stmt = '''INSERT INTO final (country, gdp_usd, population, CPI, rank, GI_risk, co2_mmt)\n",
    "        VALUES (%s, %s, %s, %s, %s, %s, %s)'''\n",
    "# odd that you just use %s and pass it a list of tuples. i suppose that's just how it works\n",
    "\n",
    "database_cursor.executemany(stmt, data)\n",
    "database_cnx.commit()\n",
    "print('yeah')"
   ]
  },
  {
   "cell_type": "code",
   "execution_count": null,
   "metadata": {},
   "outputs": [],
   "source": []
  },
  {
   "cell_type": "code",
   "execution_count": 97,
   "metadata": {},
   "outputs": [],
   "source": [
    "create_query = TABLES['final']\n",
    "def create_table(query):\n",
    "    database_cursor.execute(query)\n",
    "    database_cnx.commit()\n",
    "    print('created table successfully.')"
   ]
  },
  {
   "cell_type": "code",
   "execution_count": 98,
   "metadata": {},
   "outputs": [
    {
     "name": "stdout",
     "output_type": "stream",
     "text": [
      "created table successfully.\n"
     ]
    }
   ],
   "source": [
    "create_table(create_query)"
   ]
  },
  {
   "cell_type": "markdown",
   "metadata": {},
   "source": [
    "# Table created, data inserted."
   ]
  },
  {
   "cell_type": "code",
   "execution_count": null,
   "metadata": {},
   "outputs": [],
   "source": [
    "'''\n",
    "||||||||||||||||||||||||||||||||||||||||||||||||||||||||||||||||||||||||||||||||||||||||||||||||||||||||||||||||||||||||\n",
    "||||||||||||||||||||||||||||||||||||||||||||||||||||||||||||||||||||||||||||||||||||||||||||||||||||||||||||||||||||||||\n",
    "||||||||||||||||||||||||||||||||||||||||||||||||||||||||||||||||||||||||||||||||||||||||||||||||||||||||||||||||||||||||\n",
    "||||||||||||||||||||||||||||||||||||||||||||||||||||||||||||||||||||||||||||||||||||||||||||||||||||||||||||||||||||||||\n",
    "||||||||||||||||||||||||||||||||||||||||||||||||||||||||||||||||||||||||||||||||||||||||||||||||||||||||||||||||||||||||\n",
    "||||||||||||||||||||||||||||||||||||||||||||||||||||||||||||||||||||||||||||||||||||||||||||||||||||||||||||||||||||||||\n",
    "||||||||||||||||||||||||||||||||||||||||||||||||||||||||||||||||||||||||||||||||||||||||||||||||||||||||||||||||||||||||\n",
    "'''"
   ]
  },
  {
   "cell_type": "markdown",
   "metadata": {},
   "source": [
    "## Interlude: pull the SQL table into a dataframe again"
   ]
  },
  {
   "cell_type": "code",
   "execution_count": null,
   "metadata": {},
   "outputs": [],
   "source": []
  },
  {
   "cell_type": "code",
   "execution_count": null,
   "metadata": {},
   "outputs": [],
   "source": []
  },
  {
   "cell_type": "code",
   "execution_count": null,
   "metadata": {},
   "outputs": [],
   "source": []
  },
  {
   "cell_type": "code",
   "execution_count": null,
   "metadata": {},
   "outputs": [],
   "source": []
  },
  {
   "cell_type": "markdown",
   "metadata": {},
   "source": [
    "## Now:\n",
    "\n",
    "### pull Kyle's data into a dataframe, and see what we can get to merging"
   ]
  },
  {
   "cell_type": "code",
   "execution_count": null,
   "metadata": {},
   "outputs": [],
   "source": []
  },
  {
   "cell_type": "code",
   "execution_count": null,
   "metadata": {},
   "outputs": [],
   "source": []
  },
  {
   "cell_type": "code",
   "execution_count": null,
   "metadata": {},
   "outputs": [],
   "source": []
  },
  {
   "cell_type": "code",
   "execution_count": null,
   "metadata": {},
   "outputs": [],
   "source": []
  },
  {
   "cell_type": "code",
   "execution_count": null,
   "metadata": {},
   "outputs": [],
   "source": []
  },
  {
   "cell_type": "code",
   "execution_count": null,
   "metadata": {},
   "outputs": [],
   "source": []
  },
  {
   "cell_type": "code",
   "execution_count": null,
   "metadata": {},
   "outputs": [],
   "source": []
  },
  {
   "cell_type": "code",
   "execution_count": null,
   "metadata": {},
   "outputs": [],
   "source": []
  },
  {
   "cell_type": "code",
   "execution_count": null,
   "metadata": {},
   "outputs": [],
   "source": []
  },
  {
   "cell_type": "code",
   "execution_count": null,
   "metadata": {},
   "outputs": [],
   "source": []
  },
  {
   "cell_type": "code",
   "execution_count": null,
   "metadata": {},
   "outputs": [],
   "source": []
  },
  {
   "cell_type": "code",
   "execution_count": null,
   "metadata": {},
   "outputs": [],
   "source": []
  },
  {
   "cell_type": "code",
   "execution_count": null,
   "metadata": {},
   "outputs": [],
   "source": []
  },
  {
   "cell_type": "code",
   "execution_count": null,
   "metadata": {},
   "outputs": [],
   "source": []
  },
  {
   "cell_type": "code",
   "execution_count": null,
   "metadata": {},
   "outputs": [],
   "source": []
  },
  {
   "cell_type": "code",
   "execution_count": null,
   "metadata": {},
   "outputs": [],
   "source": []
  },
  {
   "cell_type": "code",
   "execution_count": null,
   "metadata": {},
   "outputs": [],
   "source": []
  },
  {
   "cell_type": "code",
   "execution_count": null,
   "metadata": {},
   "outputs": [],
   "source": []
  },
  {
   "cell_type": "code",
   "execution_count": null,
   "metadata": {},
   "outputs": [],
   "source": []
  },
  {
   "cell_type": "code",
   "execution_count": null,
   "metadata": {},
   "outputs": [],
   "source": []
  },
  {
   "cell_type": "code",
   "execution_count": null,
   "metadata": {},
   "outputs": [],
   "source": []
  }
 ],
 "metadata": {
  "kernelspec": {
   "display_name": "Python 3",
   "language": "python",
   "name": "python3"
  },
  "language_info": {
   "codemirror_mode": {
    "name": "ipython",
    "version": 3
   },
   "file_extension": ".py",
   "mimetype": "text/x-python",
   "name": "python",
   "nbconvert_exporter": "python",
   "pygments_lexer": "ipython3",
   "version": "3.7.3"
  }
 },
 "nbformat": 4,
 "nbformat_minor": 2
}
