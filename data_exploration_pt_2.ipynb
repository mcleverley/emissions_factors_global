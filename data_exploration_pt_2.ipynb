{
 "cells": [
  {
   "cell_type": "code",
   "execution_count": 5,
   "metadata": {},
   "outputs": [
    {
     "name": "stderr",
     "output_type": "stream",
     "text": [
      "UsageError: Line magic function `%matploblib` not found.\n"
     ]
    }
   ],
   "source": [
    "import pandas as pd\n",
    "import numpy as np\n",
    "import mysql.connector\n",
    "import config\n",
    "\n",
    "import seaborn as sns\n",
    "import matplotlib.pyplot as plt\n",
    "%matploblib inline"
   ]
  },
  {
   "cell_type": "markdown",
   "metadata": {},
   "source": [
    "# Initial run: pretty low R, around .19\n",
    "# so we're missing pieces of the puzzle"
   ]
  },
  {
   "cell_type": "markdown",
   "metadata": {},
   "source": [
    "### You could definitely boost the R by adding in 'amount of coal burned'\n",
    "### but that would defeat the purpose of a socioeconomic analysis of pollution\n",
    "\n",
    "### let's pull some more data"
   ]
  },
  {
   "cell_type": "code",
   "execution_count": 7,
   "metadata": {},
   "outputs": [],
   "source": [
    "# grabbed gini coefficients from world bank\n",
    "gini = pd.read_csv('gini.csv')"
   ]
  },
  {
   "cell_type": "code",
   "execution_count": 16,
   "metadata": {},
   "outputs": [],
   "source": [
    "gin = gini.loc[:,'2010':'2018']"
   ]
  },
  {
   "cell_type": "code",
   "execution_count": 18,
   "metadata": {},
   "outputs": [
    {
     "data": {
      "text/plain": [
       "2010    180\n",
       "2011    187\n",
       "2012    185\n",
       "2013    188\n",
       "2014    188\n",
       "2015    189\n",
       "2016    225\n",
       "2017    239\n",
       "2018    264\n",
       "dtype: int64"
      ]
     },
     "execution_count": 18,
     "metadata": {},
     "output_type": "execute_result"
    }
   ],
   "source": [
    "gin.isna().sum() # wow that's a lot of nulls for a "
   ]
  },
  {
   "cell_type": "code",
   "execution_count": 12,
   "metadata": {},
   "outputs": [
    {
     "data": {
      "text/plain": [
       "264"
      ]
     },
     "execution_count": 12,
     "metadata": {},
     "output_type": "execute_result"
    }
   ],
   "source": [
    "len(gini)"
   ]
  },
  {
   "cell_type": "code",
   "execution_count": 11,
   "metadata": {},
   "outputs": [
    {
     "data": {
      "text/plain": [
       "Country Name        0\n",
       "Country Code        0\n",
       "Indicator Name      0\n",
       "Indicator Code      0\n",
       "1960              264\n",
       "1961              264\n",
       "1962              264\n",
       "1963              264\n",
       "1964              264\n",
       "1965              264\n",
       "1966              264\n",
       "1967              264\n",
       "1968              264\n",
       "1969              264\n",
       "1970              264\n",
       "1971              264\n",
       "1972              264\n",
       "1973              264\n",
       "1974              264\n",
       "1975              264\n",
       "1976              264\n",
       "1977              264\n",
       "1978              264\n",
       "1979              261\n",
       "1980              262\n",
       "1981              257\n",
       "1982              263\n",
       "1983              261\n",
       "1984              259\n",
       "1985              255\n",
       "                 ... \n",
       "1990              248\n",
       "1991              250\n",
       "1992              238\n",
       "1993              241\n",
       "1994              242\n",
       "1995              239\n",
       "1996              234\n",
       "1997              242\n",
       "1998              227\n",
       "1999              236\n",
       "2000              230\n",
       "2001              230\n",
       "2002              217\n",
       "2003              209\n",
       "2004              193\n",
       "2005              189\n",
       "2006              190\n",
       "2007              192\n",
       "2008              191\n",
       "2009              186\n",
       "2010              180\n",
       "2011              187\n",
       "2012              185\n",
       "2013              188\n",
       "2014              188\n",
       "2015              189\n",
       "2016              225\n",
       "2017              239\n",
       "2018              264\n",
       "Unnamed: 63       264\n",
       "Length: 64, dtype: int64"
      ]
     },
     "execution_count": 11,
     "metadata": {},
     "output_type": "execute_result"
    }
   ],
   "source": [
    "gini.isna().sum()"
   ]
  },
  {
   "cell_type": "code",
   "execution_count": null,
   "metadata": {},
   "outputs": [],
   "source": []
  },
  {
   "cell_type": "code",
   "execution_count": null,
   "metadata": {},
   "outputs": [],
   "source": []
  },
  {
   "cell_type": "code",
   "execution_count": null,
   "metadata": {},
   "outputs": [],
   "source": []
  },
  {
   "cell_type": "code",
   "execution_count": null,
   "metadata": {},
   "outputs": [],
   "source": []
  }
 ],
 "metadata": {
  "kernelspec": {
   "display_name": "Python 3",
   "language": "python",
   "name": "python3"
  },
  "language_info": {
   "codemirror_mode": {
    "name": "ipython",
    "version": 3
   },
   "file_extension": ".py",
   "mimetype": "text/x-python",
   "name": "python",
   "nbconvert_exporter": "python",
   "pygments_lexer": "ipython3",
   "version": "3.7.3"
  }
 },
 "nbformat": 4,
 "nbformat_minor": 2
}
